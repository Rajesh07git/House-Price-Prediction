{
 "cells": [
  {
   "cell_type": "code",
   "execution_count": 769,
   "metadata": {},
   "outputs": [
    {
     "data": {
      "application/vnd.microsoft.datawrangler.viewer.v0+json": {
       "columns": [
        {
         "name": "index",
         "rawType": "int64",
         "type": "integer"
        },
        {
         "name": "date",
         "rawType": "object",
         "type": "string"
        },
        {
         "name": "price",
         "rawType": "float64",
         "type": "float"
        },
        {
         "name": "bedrooms",
         "rawType": "float64",
         "type": "float"
        },
        {
         "name": "bathrooms",
         "rawType": "float64",
         "type": "float"
        },
        {
         "name": "sqft_living",
         "rawType": "int64",
         "type": "integer"
        },
        {
         "name": "sqft_lot",
         "rawType": "int64",
         "type": "integer"
        },
        {
         "name": "floors",
         "rawType": "float64",
         "type": "float"
        },
        {
         "name": "waterfront",
         "rawType": "int64",
         "type": "integer"
        },
        {
         "name": "view",
         "rawType": "int64",
         "type": "integer"
        },
        {
         "name": "condition",
         "rawType": "int64",
         "type": "integer"
        },
        {
         "name": "sqft_above",
         "rawType": "int64",
         "type": "integer"
        },
        {
         "name": "sqft_basement",
         "rawType": "int64",
         "type": "integer"
        },
        {
         "name": "yr_built",
         "rawType": "int64",
         "type": "integer"
        },
        {
         "name": "yr_renovated",
         "rawType": "int64",
         "type": "integer"
        },
        {
         "name": "street",
         "rawType": "object",
         "type": "string"
        },
        {
         "name": "city",
         "rawType": "object",
         "type": "string"
        },
        {
         "name": "statezip",
         "rawType": "object",
         "type": "string"
        },
        {
         "name": "country",
         "rawType": "object",
         "type": "string"
        }
       ],
       "conversionMethod": "pd.DataFrame",
       "ref": "03398865-00de-4aee-85dd-df9788098101",
       "rows": [
        [
         "0",
         "2014-05-02 00:00:00",
         "313000.0",
         "3.0",
         "1.5",
         "1340",
         "7912",
         "1.5",
         "0",
         "0",
         "3",
         "1340",
         "0",
         "1955",
         "2005",
         "18810 Densmore Ave N",
         "Shoreline",
         "WA 98133",
         "USA"
        ],
        [
         "1",
         "2014-05-02 00:00:00",
         "2384000.0",
         "5.0",
         "2.5",
         "3650",
         "9050",
         "2.0",
         "0",
         "4",
         "5",
         "3370",
         "280",
         "1921",
         "0",
         "709 W Blaine St",
         "Seattle",
         "WA 98119",
         "USA"
        ],
        [
         "2",
         "2014-05-02 00:00:00",
         "342000.0",
         "3.0",
         "2.0",
         "1930",
         "11947",
         "1.0",
         "0",
         "0",
         "4",
         "1930",
         "0",
         "1966",
         "0",
         "26206-26214 143rd Ave SE",
         "Kent",
         "WA 98042",
         "USA"
        ],
        [
         "3",
         "2014-05-02 00:00:00",
         "420000.0",
         "3.0",
         "2.25",
         "2000",
         "8030",
         "1.0",
         "0",
         "0",
         "4",
         "1000",
         "1000",
         "1963",
         "0",
         "857 170th Pl NE",
         "Bellevue",
         "WA 98008",
         "USA"
        ],
        [
         "4",
         "2014-05-02 00:00:00",
         "550000.0",
         "4.0",
         "2.5",
         "1940",
         "10500",
         "1.0",
         "0",
         "0",
         "4",
         "1140",
         "800",
         "1976",
         "1992",
         "9105 170th Ave NE",
         "Redmond",
         "WA 98052",
         "USA"
        ]
       ],
       "shape": {
        "columns": 18,
        "rows": 5
       }
      },
      "text/html": [
       "<div>\n",
       "<style scoped>\n",
       "    .dataframe tbody tr th:only-of-type {\n",
       "        vertical-align: middle;\n",
       "    }\n",
       "\n",
       "    .dataframe tbody tr th {\n",
       "        vertical-align: top;\n",
       "    }\n",
       "\n",
       "    .dataframe thead th {\n",
       "        text-align: right;\n",
       "    }\n",
       "</style>\n",
       "<table border=\"1\" class=\"dataframe\">\n",
       "  <thead>\n",
       "    <tr style=\"text-align: right;\">\n",
       "      <th></th>\n",
       "      <th>date</th>\n",
       "      <th>price</th>\n",
       "      <th>bedrooms</th>\n",
       "      <th>bathrooms</th>\n",
       "      <th>sqft_living</th>\n",
       "      <th>sqft_lot</th>\n",
       "      <th>floors</th>\n",
       "      <th>waterfront</th>\n",
       "      <th>view</th>\n",
       "      <th>condition</th>\n",
       "      <th>sqft_above</th>\n",
       "      <th>sqft_basement</th>\n",
       "      <th>yr_built</th>\n",
       "      <th>yr_renovated</th>\n",
       "      <th>street</th>\n",
       "      <th>city</th>\n",
       "      <th>statezip</th>\n",
       "      <th>country</th>\n",
       "    </tr>\n",
       "  </thead>\n",
       "  <tbody>\n",
       "    <tr>\n",
       "      <th>0</th>\n",
       "      <td>2014-05-02 00:00:00</td>\n",
       "      <td>313000.0</td>\n",
       "      <td>3.0</td>\n",
       "      <td>1.50</td>\n",
       "      <td>1340</td>\n",
       "      <td>7912</td>\n",
       "      <td>1.5</td>\n",
       "      <td>0</td>\n",
       "      <td>0</td>\n",
       "      <td>3</td>\n",
       "      <td>1340</td>\n",
       "      <td>0</td>\n",
       "      <td>1955</td>\n",
       "      <td>2005</td>\n",
       "      <td>18810 Densmore Ave N</td>\n",
       "      <td>Shoreline</td>\n",
       "      <td>WA 98133</td>\n",
       "      <td>USA</td>\n",
       "    </tr>\n",
       "    <tr>\n",
       "      <th>1</th>\n",
       "      <td>2014-05-02 00:00:00</td>\n",
       "      <td>2384000.0</td>\n",
       "      <td>5.0</td>\n",
       "      <td>2.50</td>\n",
       "      <td>3650</td>\n",
       "      <td>9050</td>\n",
       "      <td>2.0</td>\n",
       "      <td>0</td>\n",
       "      <td>4</td>\n",
       "      <td>5</td>\n",
       "      <td>3370</td>\n",
       "      <td>280</td>\n",
       "      <td>1921</td>\n",
       "      <td>0</td>\n",
       "      <td>709 W Blaine St</td>\n",
       "      <td>Seattle</td>\n",
       "      <td>WA 98119</td>\n",
       "      <td>USA</td>\n",
       "    </tr>\n",
       "    <tr>\n",
       "      <th>2</th>\n",
       "      <td>2014-05-02 00:00:00</td>\n",
       "      <td>342000.0</td>\n",
       "      <td>3.0</td>\n",
       "      <td>2.00</td>\n",
       "      <td>1930</td>\n",
       "      <td>11947</td>\n",
       "      <td>1.0</td>\n",
       "      <td>0</td>\n",
       "      <td>0</td>\n",
       "      <td>4</td>\n",
       "      <td>1930</td>\n",
       "      <td>0</td>\n",
       "      <td>1966</td>\n",
       "      <td>0</td>\n",
       "      <td>26206-26214 143rd Ave SE</td>\n",
       "      <td>Kent</td>\n",
       "      <td>WA 98042</td>\n",
       "      <td>USA</td>\n",
       "    </tr>\n",
       "    <tr>\n",
       "      <th>3</th>\n",
       "      <td>2014-05-02 00:00:00</td>\n",
       "      <td>420000.0</td>\n",
       "      <td>3.0</td>\n",
       "      <td>2.25</td>\n",
       "      <td>2000</td>\n",
       "      <td>8030</td>\n",
       "      <td>1.0</td>\n",
       "      <td>0</td>\n",
       "      <td>0</td>\n",
       "      <td>4</td>\n",
       "      <td>1000</td>\n",
       "      <td>1000</td>\n",
       "      <td>1963</td>\n",
       "      <td>0</td>\n",
       "      <td>857 170th Pl NE</td>\n",
       "      <td>Bellevue</td>\n",
       "      <td>WA 98008</td>\n",
       "      <td>USA</td>\n",
       "    </tr>\n",
       "    <tr>\n",
       "      <th>4</th>\n",
       "      <td>2014-05-02 00:00:00</td>\n",
       "      <td>550000.0</td>\n",
       "      <td>4.0</td>\n",
       "      <td>2.50</td>\n",
       "      <td>1940</td>\n",
       "      <td>10500</td>\n",
       "      <td>1.0</td>\n",
       "      <td>0</td>\n",
       "      <td>0</td>\n",
       "      <td>4</td>\n",
       "      <td>1140</td>\n",
       "      <td>800</td>\n",
       "      <td>1976</td>\n",
       "      <td>1992</td>\n",
       "      <td>9105 170th Ave NE</td>\n",
       "      <td>Redmond</td>\n",
       "      <td>WA 98052</td>\n",
       "      <td>USA</td>\n",
       "    </tr>\n",
       "  </tbody>\n",
       "</table>\n",
       "</div>"
      ],
      "text/plain": [
       "                  date      price  bedrooms  bathrooms  sqft_living  sqft_lot  \\\n",
       "0  2014-05-02 00:00:00   313000.0       3.0       1.50         1340      7912   \n",
       "1  2014-05-02 00:00:00  2384000.0       5.0       2.50         3650      9050   \n",
       "2  2014-05-02 00:00:00   342000.0       3.0       2.00         1930     11947   \n",
       "3  2014-05-02 00:00:00   420000.0       3.0       2.25         2000      8030   \n",
       "4  2014-05-02 00:00:00   550000.0       4.0       2.50         1940     10500   \n",
       "\n",
       "   floors  waterfront  view  condition  sqft_above  sqft_basement  yr_built  \\\n",
       "0     1.5           0     0          3        1340              0      1955   \n",
       "1     2.0           0     4          5        3370            280      1921   \n",
       "2     1.0           0     0          4        1930              0      1966   \n",
       "3     1.0           0     0          4        1000           1000      1963   \n",
       "4     1.0           0     0          4        1140            800      1976   \n",
       "\n",
       "   yr_renovated                    street       city  statezip country  \n",
       "0          2005      18810 Densmore Ave N  Shoreline  WA 98133     USA  \n",
       "1             0           709 W Blaine St    Seattle  WA 98119     USA  \n",
       "2             0  26206-26214 143rd Ave SE       Kent  WA 98042     USA  \n",
       "3             0           857 170th Pl NE   Bellevue  WA 98008     USA  \n",
       "4          1992         9105 170th Ave NE    Redmond  WA 98052     USA  "
      ]
     },
     "execution_count": 769,
     "metadata": {},
     "output_type": "execute_result"
    }
   ],
   "source": [
    "import pandas as pd\n",
    "df=pd.read_csv(r\"D:\\ML\\ML Project\\model\\data.csv\")\n",
    "df.head()"
   ]
  },
  {
   "cell_type": "code",
   "execution_count": 770,
   "metadata": {},
   "outputs": [
    {
     "data": {
      "application/vnd.microsoft.datawrangler.viewer.v0+json": {
       "columns": [
        {
         "name": "index",
         "rawType": "int64",
         "type": "integer"
        },
        {
         "name": "price",
         "rawType": "float64",
         "type": "float"
        },
        {
         "name": "bedrooms",
         "rawType": "float64",
         "type": "float"
        },
        {
         "name": "bathrooms",
         "rawType": "float64",
         "type": "float"
        },
        {
         "name": "sqft_living",
         "rawType": "int64",
         "type": "integer"
        },
        {
         "name": "sqft_lot",
         "rawType": "int64",
         "type": "integer"
        },
        {
         "name": "floors",
         "rawType": "float64",
         "type": "float"
        },
        {
         "name": "yr_built",
         "rawType": "int64",
         "type": "integer"
        },
        {
         "name": "city",
         "rawType": "object",
         "type": "string"
        }
       ],
       "conversionMethod": "pd.DataFrame",
       "ref": "0ab8cdc9-e9d1-4176-aad6-4d1aa40ada4d",
       "rows": [
        [
         "0",
         "313000.0",
         "3.0",
         "1.5",
         "1340",
         "7912",
         "1.5",
         "1955",
         "Shoreline"
        ],
        [
         "1",
         "2384000.0",
         "5.0",
         "2.5",
         "3650",
         "9050",
         "2.0",
         "1921",
         "Seattle"
        ],
        [
         "2",
         "342000.0",
         "3.0",
         "2.0",
         "1930",
         "11947",
         "1.0",
         "1966",
         "Kent"
        ],
        [
         "3",
         "420000.0",
         "3.0",
         "2.25",
         "2000",
         "8030",
         "1.0",
         "1963",
         "Bellevue"
        ],
        [
         "4",
         "550000.0",
         "4.0",
         "2.5",
         "1940",
         "10500",
         "1.0",
         "1976",
         "Redmond"
        ]
       ],
       "shape": {
        "columns": 8,
        "rows": 5
       }
      },
      "text/html": [
       "<div>\n",
       "<style scoped>\n",
       "    .dataframe tbody tr th:only-of-type {\n",
       "        vertical-align: middle;\n",
       "    }\n",
       "\n",
       "    .dataframe tbody tr th {\n",
       "        vertical-align: top;\n",
       "    }\n",
       "\n",
       "    .dataframe thead th {\n",
       "        text-align: right;\n",
       "    }\n",
       "</style>\n",
       "<table border=\"1\" class=\"dataframe\">\n",
       "  <thead>\n",
       "    <tr style=\"text-align: right;\">\n",
       "      <th></th>\n",
       "      <th>price</th>\n",
       "      <th>bedrooms</th>\n",
       "      <th>bathrooms</th>\n",
       "      <th>sqft_living</th>\n",
       "      <th>sqft_lot</th>\n",
       "      <th>floors</th>\n",
       "      <th>yr_built</th>\n",
       "      <th>city</th>\n",
       "    </tr>\n",
       "  </thead>\n",
       "  <tbody>\n",
       "    <tr>\n",
       "      <th>0</th>\n",
       "      <td>313000.0</td>\n",
       "      <td>3.0</td>\n",
       "      <td>1.50</td>\n",
       "      <td>1340</td>\n",
       "      <td>7912</td>\n",
       "      <td>1.5</td>\n",
       "      <td>1955</td>\n",
       "      <td>Shoreline</td>\n",
       "    </tr>\n",
       "    <tr>\n",
       "      <th>1</th>\n",
       "      <td>2384000.0</td>\n",
       "      <td>5.0</td>\n",
       "      <td>2.50</td>\n",
       "      <td>3650</td>\n",
       "      <td>9050</td>\n",
       "      <td>2.0</td>\n",
       "      <td>1921</td>\n",
       "      <td>Seattle</td>\n",
       "    </tr>\n",
       "    <tr>\n",
       "      <th>2</th>\n",
       "      <td>342000.0</td>\n",
       "      <td>3.0</td>\n",
       "      <td>2.00</td>\n",
       "      <td>1930</td>\n",
       "      <td>11947</td>\n",
       "      <td>1.0</td>\n",
       "      <td>1966</td>\n",
       "      <td>Kent</td>\n",
       "    </tr>\n",
       "    <tr>\n",
       "      <th>3</th>\n",
       "      <td>420000.0</td>\n",
       "      <td>3.0</td>\n",
       "      <td>2.25</td>\n",
       "      <td>2000</td>\n",
       "      <td>8030</td>\n",
       "      <td>1.0</td>\n",
       "      <td>1963</td>\n",
       "      <td>Bellevue</td>\n",
       "    </tr>\n",
       "    <tr>\n",
       "      <th>4</th>\n",
       "      <td>550000.0</td>\n",
       "      <td>4.0</td>\n",
       "      <td>2.50</td>\n",
       "      <td>1940</td>\n",
       "      <td>10500</td>\n",
       "      <td>1.0</td>\n",
       "      <td>1976</td>\n",
       "      <td>Redmond</td>\n",
       "    </tr>\n",
       "  </tbody>\n",
       "</table>\n",
       "</div>"
      ],
      "text/plain": [
       "       price  bedrooms  bathrooms  sqft_living  sqft_lot  floors  yr_built  \\\n",
       "0   313000.0       3.0       1.50         1340      7912     1.5      1955   \n",
       "1  2384000.0       5.0       2.50         3650      9050     2.0      1921   \n",
       "2   342000.0       3.0       2.00         1930     11947     1.0      1966   \n",
       "3   420000.0       3.0       2.25         2000      8030     1.0      1963   \n",
       "4   550000.0       4.0       2.50         1940     10500     1.0      1976   \n",
       "\n",
       "        city  \n",
       "0  Shoreline  \n",
       "1    Seattle  \n",
       "2       Kent  \n",
       "3   Bellevue  \n",
       "4    Redmond  "
      ]
     },
     "execution_count": 770,
     "metadata": {},
     "output_type": "execute_result"
    }
   ],
   "source": [
    "df=df.drop(['date','waterfront','view','condition','sqft_above','statezip','sqft_basement','yr_renovated','street','country'],axis='columns')\n",
    "df.head()"
   ]
  },
  {
   "cell_type": "code",
   "execution_count": 771,
   "metadata": {},
   "outputs": [
    {
     "data": {
      "application/vnd.microsoft.datawrangler.viewer.v0+json": {
       "columns": [
        {
         "name": "index",
         "rawType": "int64",
         "type": "integer"
        },
        {
         "name": "price",
         "rawType": "float64",
         "type": "float"
        },
        {
         "name": "bedrooms",
         "rawType": "float64",
         "type": "float"
        },
        {
         "name": "bathrooms",
         "rawType": "float64",
         "type": "float"
        },
        {
         "name": "sqft_living",
         "rawType": "int64",
         "type": "integer"
        },
        {
         "name": "sqft_lot",
         "rawType": "int64",
         "type": "integer"
        },
        {
         "name": "floors",
         "rawType": "float64",
         "type": "float"
        },
        {
         "name": "yr_built",
         "rawType": "int64",
         "type": "integer"
        },
        {
         "name": "city",
         "rawType": "object",
         "type": "string"
        }
       ],
       "conversionMethod": "pd.DataFrame",
       "ref": "6e4bbf90-1220-40f4-9006-6a1fe582226e",
       "rows": [
        [
         "0",
         "313000.0",
         "3.0",
         "1.0",
         "1340",
         "7912",
         "2.0",
         "1955",
         "Shoreline"
        ],
        [
         "1",
         "2384000.0",
         "5.0",
         "2.0",
         "3650",
         "9050",
         "2.0",
         "1921",
         "Seattle"
        ],
        [
         "2",
         "342000.0",
         "3.0",
         "2.0",
         "1930",
         "11947",
         "1.0",
         "1966",
         "Kent"
        ],
        [
         "3",
         "420000.0",
         "3.0",
         "2.0",
         "2000",
         "8030",
         "1.0",
         "1963",
         "Bellevue"
        ],
        [
         "4",
         "550000.0",
         "4.0",
         "2.0",
         "1940",
         "10500",
         "1.0",
         "1976",
         "Redmond"
        ]
       ],
       "shape": {
        "columns": 8,
        "rows": 5
       }
      },
      "text/html": [
       "<div>\n",
       "<style scoped>\n",
       "    .dataframe tbody tr th:only-of-type {\n",
       "        vertical-align: middle;\n",
       "    }\n",
       "\n",
       "    .dataframe tbody tr th {\n",
       "        vertical-align: top;\n",
       "    }\n",
       "\n",
       "    .dataframe thead th {\n",
       "        text-align: right;\n",
       "    }\n",
       "</style>\n",
       "<table border=\"1\" class=\"dataframe\">\n",
       "  <thead>\n",
       "    <tr style=\"text-align: right;\">\n",
       "      <th></th>\n",
       "      <th>price</th>\n",
       "      <th>bedrooms</th>\n",
       "      <th>bathrooms</th>\n",
       "      <th>sqft_living</th>\n",
       "      <th>sqft_lot</th>\n",
       "      <th>floors</th>\n",
       "      <th>yr_built</th>\n",
       "      <th>city</th>\n",
       "    </tr>\n",
       "  </thead>\n",
       "  <tbody>\n",
       "    <tr>\n",
       "      <th>0</th>\n",
       "      <td>313000.0</td>\n",
       "      <td>3.0</td>\n",
       "      <td>1.0</td>\n",
       "      <td>1340</td>\n",
       "      <td>7912</td>\n",
       "      <td>2.0</td>\n",
       "      <td>1955</td>\n",
       "      <td>Shoreline</td>\n",
       "    </tr>\n",
       "    <tr>\n",
       "      <th>1</th>\n",
       "      <td>2384000.0</td>\n",
       "      <td>5.0</td>\n",
       "      <td>2.0</td>\n",
       "      <td>3650</td>\n",
       "      <td>9050</td>\n",
       "      <td>2.0</td>\n",
       "      <td>1921</td>\n",
       "      <td>Seattle</td>\n",
       "    </tr>\n",
       "    <tr>\n",
       "      <th>2</th>\n",
       "      <td>342000.0</td>\n",
       "      <td>3.0</td>\n",
       "      <td>2.0</td>\n",
       "      <td>1930</td>\n",
       "      <td>11947</td>\n",
       "      <td>1.0</td>\n",
       "      <td>1966</td>\n",
       "      <td>Kent</td>\n",
       "    </tr>\n",
       "    <tr>\n",
       "      <th>3</th>\n",
       "      <td>420000.0</td>\n",
       "      <td>3.0</td>\n",
       "      <td>2.0</td>\n",
       "      <td>2000</td>\n",
       "      <td>8030</td>\n",
       "      <td>1.0</td>\n",
       "      <td>1963</td>\n",
       "      <td>Bellevue</td>\n",
       "    </tr>\n",
       "    <tr>\n",
       "      <th>4</th>\n",
       "      <td>550000.0</td>\n",
       "      <td>4.0</td>\n",
       "      <td>2.0</td>\n",
       "      <td>1940</td>\n",
       "      <td>10500</td>\n",
       "      <td>1.0</td>\n",
       "      <td>1976</td>\n",
       "      <td>Redmond</td>\n",
       "    </tr>\n",
       "  </tbody>\n",
       "</table>\n",
       "</div>"
      ],
      "text/plain": [
       "       price  bedrooms  bathrooms  sqft_living  sqft_lot  floors  yr_built  \\\n",
       "0   313000.0       3.0        1.0         1340      7912     2.0      1955   \n",
       "1  2384000.0       5.0        2.0         3650      9050     2.0      1921   \n",
       "2   342000.0       3.0        2.0         1930     11947     1.0      1966   \n",
       "3   420000.0       3.0        2.0         2000      8030     1.0      1963   \n",
       "4   550000.0       4.0        2.0         1940     10500     1.0      1976   \n",
       "\n",
       "        city  \n",
       "0  Shoreline  \n",
       "1    Seattle  \n",
       "2       Kent  \n",
       "3   Bellevue  \n",
       "4    Redmond  "
      ]
     },
     "execution_count": 771,
     "metadata": {},
     "output_type": "execute_result"
    }
   ],
   "source": [
    "import math\n",
    "import numpy as np\n",
    "df.bathrooms=np.floor(df.bathrooms)\n",
    "df.floors=np.ceil(df.floors)\n",
    "df.head()"
   ]
  },
  {
   "cell_type": "code",
   "execution_count": 772,
   "metadata": {},
   "outputs": [
    {
     "data": {
      "text/plain": [
       "price          0\n",
       "bedrooms       0\n",
       "bathrooms      0\n",
       "sqft_living    0\n",
       "sqft_lot       0\n",
       "floors         0\n",
       "yr_built       0\n",
       "city           0\n",
       "dtype: int64"
      ]
     },
     "execution_count": 772,
     "metadata": {},
     "output_type": "execute_result"
    }
   ],
   "source": [
    "df.isnull().sum()"
   ]
  },
  {
   "cell_type": "code",
   "execution_count": 773,
   "metadata": {},
   "outputs": [
    {
     "data": {
      "text/plain": [
       "price          1741\n",
       "bedrooms         10\n",
       "bathrooms         8\n",
       "sqft_living     566\n",
       "sqft_lot       3113\n",
       "floors            4\n",
       "yr_built        115\n",
       "city             44\n",
       "dtype: int64"
      ]
     },
     "execution_count": 773,
     "metadata": {},
     "output_type": "execute_result"
    }
   ],
   "source": [
    "df.nunique()"
   ]
  },
  {
   "cell_type": "code",
   "execution_count": 774,
   "metadata": {},
   "outputs": [
    {
     "data": {
      "text/plain": [
       "array([3., 5., 4., 2., 6., 7., 9., 1., 8., 0.])"
      ]
     },
     "execution_count": 774,
     "metadata": {},
     "output_type": "execute_result"
    }
   ],
   "source": [
    "df.bedrooms.unique()"
   ]
  },
  {
   "cell_type": "code",
   "execution_count": 775,
   "metadata": {},
   "outputs": [
    {
     "data": {
      "text/plain": [
       "array([2., 1., 3., 4.])"
      ]
     },
     "execution_count": 775,
     "metadata": {},
     "output_type": "execute_result"
    }
   ],
   "source": [
    "df.floors.unique()"
   ]
  },
  {
   "cell_type": "code",
   "execution_count": 776,
   "metadata": {},
   "outputs": [],
   "source": [
    "def is_float(x):\n",
    "    try:\n",
    "        float(x)\n",
    "    except:\n",
    "        return False\n",
    "    return True"
   ]
  },
  {
   "cell_type": "code",
   "execution_count": 777,
   "metadata": {},
   "outputs": [
    {
     "data": {
      "application/vnd.microsoft.datawrangler.viewer.v0+json": {
       "columns": [
        {
         "name": "index",
         "rawType": "int64",
         "type": "integer"
        },
        {
         "name": "price",
         "rawType": "float64",
         "type": "float"
        },
        {
         "name": "bedrooms",
         "rawType": "float64",
         "type": "float"
        },
        {
         "name": "bathrooms",
         "rawType": "float64",
         "type": "float"
        },
        {
         "name": "sqft_living",
         "rawType": "int64",
         "type": "integer"
        },
        {
         "name": "sqft_lot",
         "rawType": "int64",
         "type": "integer"
        },
        {
         "name": "floors",
         "rawType": "float64",
         "type": "float"
        },
        {
         "name": "yr_built",
         "rawType": "int64",
         "type": "integer"
        },
        {
         "name": "city",
         "rawType": "object",
         "type": "string"
        }
       ],
       "conversionMethod": "pd.DataFrame",
       "ref": "14d4892d-6028-4d26-ac04-578d7520cae0",
       "rows": [],
       "shape": {
        "columns": 8,
        "rows": 0
       }
      },
      "text/html": [
       "<div>\n",
       "<style scoped>\n",
       "    .dataframe tbody tr th:only-of-type {\n",
       "        vertical-align: middle;\n",
       "    }\n",
       "\n",
       "    .dataframe tbody tr th {\n",
       "        vertical-align: top;\n",
       "    }\n",
       "\n",
       "    .dataframe thead th {\n",
       "        text-align: right;\n",
       "    }\n",
       "</style>\n",
       "<table border=\"1\" class=\"dataframe\">\n",
       "  <thead>\n",
       "    <tr style=\"text-align: right;\">\n",
       "      <th></th>\n",
       "      <th>price</th>\n",
       "      <th>bedrooms</th>\n",
       "      <th>bathrooms</th>\n",
       "      <th>sqft_living</th>\n",
       "      <th>sqft_lot</th>\n",
       "      <th>floors</th>\n",
       "      <th>yr_built</th>\n",
       "      <th>city</th>\n",
       "    </tr>\n",
       "  </thead>\n",
       "  <tbody>\n",
       "  </tbody>\n",
       "</table>\n",
       "</div>"
      ],
      "text/plain": [
       "Empty DataFrame\n",
       "Columns: [price, bedrooms, bathrooms, sqft_living, sqft_lot, floors, yr_built, city]\n",
       "Index: []"
      ]
     },
     "execution_count": 777,
     "metadata": {},
     "output_type": "execute_result"
    }
   ],
   "source": [
    "df[~df.sqft_living.apply(is_float)]\n"
   ]
  },
  {
   "cell_type": "code",
   "execution_count": 778,
   "metadata": {},
   "outputs": [
    {
     "data": {
      "application/vnd.microsoft.datawrangler.viewer.v0+json": {
       "columns": [
        {
         "name": "index",
         "rawType": "int64",
         "type": "integer"
        },
        {
         "name": "price",
         "rawType": "float64",
         "type": "float"
        },
        {
         "name": "bedrooms",
         "rawType": "float64",
         "type": "float"
        },
        {
         "name": "bathrooms",
         "rawType": "float64",
         "type": "float"
        },
        {
         "name": "sqft_living",
         "rawType": "int64",
         "type": "integer"
        },
        {
         "name": "sqft_lot",
         "rawType": "int64",
         "type": "integer"
        },
        {
         "name": "floors",
         "rawType": "float64",
         "type": "float"
        },
        {
         "name": "yr_built",
         "rawType": "int64",
         "type": "integer"
        },
        {
         "name": "city",
         "rawType": "object",
         "type": "string"
        },
        {
         "name": "price_per_sqft",
         "rawType": "float64",
         "type": "float"
        }
       ],
       "conversionMethod": "pd.DataFrame",
       "ref": "05bee1e5-3ec1-407b-b39c-293246454103",
       "rows": [
        [
         "0",
         "313000.0",
         "3.0",
         "1.0",
         "1340",
         "7912",
         "2.0",
         "1955",
         "Shoreline",
         "233.5820895522388"
        ],
        [
         "1",
         "2384000.0",
         "5.0",
         "2.0",
         "3650",
         "9050",
         "2.0",
         "1921",
         "Seattle",
         "653.1506849315068"
        ],
        [
         "2",
         "342000.0",
         "3.0",
         "2.0",
         "1930",
         "11947",
         "1.0",
         "1966",
         "Kent",
         "177.2020725388601"
        ],
        [
         "3",
         "420000.0",
         "3.0",
         "2.0",
         "2000",
         "8030",
         "1.0",
         "1963",
         "Bellevue",
         "210.0"
        ],
        [
         "4",
         "550000.0",
         "4.0",
         "2.0",
         "1940",
         "10500",
         "1.0",
         "1976",
         "Redmond",
         "283.50515463917526"
        ]
       ],
       "shape": {
        "columns": 9,
        "rows": 5
       }
      },
      "text/html": [
       "<div>\n",
       "<style scoped>\n",
       "    .dataframe tbody tr th:only-of-type {\n",
       "        vertical-align: middle;\n",
       "    }\n",
       "\n",
       "    .dataframe tbody tr th {\n",
       "        vertical-align: top;\n",
       "    }\n",
       "\n",
       "    .dataframe thead th {\n",
       "        text-align: right;\n",
       "    }\n",
       "</style>\n",
       "<table border=\"1\" class=\"dataframe\">\n",
       "  <thead>\n",
       "    <tr style=\"text-align: right;\">\n",
       "      <th></th>\n",
       "      <th>price</th>\n",
       "      <th>bedrooms</th>\n",
       "      <th>bathrooms</th>\n",
       "      <th>sqft_living</th>\n",
       "      <th>sqft_lot</th>\n",
       "      <th>floors</th>\n",
       "      <th>yr_built</th>\n",
       "      <th>city</th>\n",
       "      <th>price_per_sqft</th>\n",
       "    </tr>\n",
       "  </thead>\n",
       "  <tbody>\n",
       "    <tr>\n",
       "      <th>0</th>\n",
       "      <td>313000.0</td>\n",
       "      <td>3.0</td>\n",
       "      <td>1.0</td>\n",
       "      <td>1340</td>\n",
       "      <td>7912</td>\n",
       "      <td>2.0</td>\n",
       "      <td>1955</td>\n",
       "      <td>Shoreline</td>\n",
       "      <td>233.582090</td>\n",
       "    </tr>\n",
       "    <tr>\n",
       "      <th>1</th>\n",
       "      <td>2384000.0</td>\n",
       "      <td>5.0</td>\n",
       "      <td>2.0</td>\n",
       "      <td>3650</td>\n",
       "      <td>9050</td>\n",
       "      <td>2.0</td>\n",
       "      <td>1921</td>\n",
       "      <td>Seattle</td>\n",
       "      <td>653.150685</td>\n",
       "    </tr>\n",
       "    <tr>\n",
       "      <th>2</th>\n",
       "      <td>342000.0</td>\n",
       "      <td>3.0</td>\n",
       "      <td>2.0</td>\n",
       "      <td>1930</td>\n",
       "      <td>11947</td>\n",
       "      <td>1.0</td>\n",
       "      <td>1966</td>\n",
       "      <td>Kent</td>\n",
       "      <td>177.202073</td>\n",
       "    </tr>\n",
       "    <tr>\n",
       "      <th>3</th>\n",
       "      <td>420000.0</td>\n",
       "      <td>3.0</td>\n",
       "      <td>2.0</td>\n",
       "      <td>2000</td>\n",
       "      <td>8030</td>\n",
       "      <td>1.0</td>\n",
       "      <td>1963</td>\n",
       "      <td>Bellevue</td>\n",
       "      <td>210.000000</td>\n",
       "    </tr>\n",
       "    <tr>\n",
       "      <th>4</th>\n",
       "      <td>550000.0</td>\n",
       "      <td>4.0</td>\n",
       "      <td>2.0</td>\n",
       "      <td>1940</td>\n",
       "      <td>10500</td>\n",
       "      <td>1.0</td>\n",
       "      <td>1976</td>\n",
       "      <td>Redmond</td>\n",
       "      <td>283.505155</td>\n",
       "    </tr>\n",
       "  </tbody>\n",
       "</table>\n",
       "</div>"
      ],
      "text/plain": [
       "       price  bedrooms  bathrooms  sqft_living  sqft_lot  floors  yr_built  \\\n",
       "0   313000.0       3.0        1.0         1340      7912     2.0      1955   \n",
       "1  2384000.0       5.0        2.0         3650      9050     2.0      1921   \n",
       "2   342000.0       3.0        2.0         1930     11947     1.0      1966   \n",
       "3   420000.0       3.0        2.0         2000      8030     1.0      1963   \n",
       "4   550000.0       4.0        2.0         1940     10500     1.0      1976   \n",
       "\n",
       "        city  price_per_sqft  \n",
       "0  Shoreline      233.582090  \n",
       "1    Seattle      653.150685  \n",
       "2       Kent      177.202073  \n",
       "3   Bellevue      210.000000  \n",
       "4    Redmond      283.505155  "
      ]
     },
     "execution_count": 778,
     "metadata": {},
     "output_type": "execute_result"
    }
   ],
   "source": [
    "df['price_per_sqft']=df['price']/df['sqft_living']\n",
    "df.head()"
   ]
  },
  {
   "cell_type": "code",
   "execution_count": 779,
   "metadata": {},
   "outputs": [
    {
     "data": {
      "text/plain": [
       "city\n",
       "Seattle                1573\n",
       "Renton                  293\n",
       "Bellevue                286\n",
       "Redmond                 235\n",
       "Issaquah                187\n",
       "Kirkland                187\n",
       "Kent                    185\n",
       "Auburn                  176\n",
       "Sammamish               175\n",
       "Federal Way             148\n",
       "Shoreline               123\n",
       "Woodinville             115\n",
       "Maple Valley             96\n",
       "Mercer Island            86\n",
       "Burien                   74\n",
       "Snoqualmie               71\n",
       "Kenmore                  66\n",
       "Des Moines               58\n",
       "North Bend               50\n",
       "Covington                43\n",
       "Duvall                   42\n",
       "Lake Forest Park         36\n",
       "Bothell                  33\n",
       "Newcastle                33\n",
       "SeaTac                   29\n",
       "Tukwila                  29\n",
       "Vashon                   29\n",
       "Enumclaw                 28\n",
       "Carnation                22\n",
       "Normandy Park            18\n",
       "Clyde Hill               11\n",
       "Medina                   11\n",
       "Fall City                11\n",
       "Black Diamond             9\n",
       "Ravensdale                7\n",
       "Pacific                   6\n",
       "Algona                    5\n",
       "Yarrow Point              4\n",
       "Skykomish                 3\n",
       "Preston                   2\n",
       "Milton                    2\n",
       "Inglewood-Finn Hill       1\n",
       "Snoqualmie Pass           1\n",
       "Beaux Arts Village        1\n",
       "Name: count, dtype: int64"
      ]
     },
     "execution_count": 779,
     "metadata": {},
     "output_type": "execute_result"
    }
   ],
   "source": [
    "df.city.value_counts()"
   ]
  },
  {
   "cell_type": "code",
   "execution_count": 780,
   "metadata": {},
   "outputs": [
    {
     "data": {
      "text/plain": [
       "city\n",
       "Seattle                1573\n",
       "Renton                  293\n",
       "Bellevue                286\n",
       "Redmond                 235\n",
       "Issaquah                187\n",
       "Kirkland                187\n",
       "Kent                    185\n",
       "Auburn                  176\n",
       "Sammamish               175\n",
       "Federal Way             148\n",
       "Shoreline               123\n",
       "Woodinville             115\n",
       "Maple Valley             96\n",
       "Mercer Island            86\n",
       "Burien                   74\n",
       "Snoqualmie               71\n",
       "Kenmore                  66\n",
       "Des Moines               58\n",
       "North Bend               50\n",
       "Covington                43\n",
       "Duvall                   42\n",
       "Lake Forest Park         36\n",
       "Bothell                  33\n",
       "Newcastle                33\n",
       "Vashon                   29\n",
       "SeaTac                   29\n",
       "Tukwila                  29\n",
       "Enumclaw                 28\n",
       "Carnation                22\n",
       "Normandy Park            18\n",
       "Clyde Hill               11\n",
       "Fall City                11\n",
       "Medina                   11\n",
       "Black Diamond             9\n",
       "Ravensdale                7\n",
       "Pacific                   6\n",
       "Algona                    5\n",
       "Yarrow Point              4\n",
       "Skykomish                 3\n",
       "Preston                   2\n",
       "Milton                    2\n",
       "Snoqualmie Pass           1\n",
       "Inglewood-Finn Hill       1\n",
       "Beaux Arts Village        1\n",
       "Name: city, dtype: int64"
      ]
     },
     "execution_count": 780,
     "metadata": {},
     "output_type": "execute_result"
    }
   ],
   "source": [
    "df.city=df.city.apply(lambda x:x.strip())\n",
    "loc_stats=df.groupby('city')['city'].agg('count').sort_values(ascending=False)\n",
    "loc_stats"
   ]
  },
  {
   "cell_type": "code",
   "execution_count": 781,
   "metadata": {},
   "outputs": [
    {
     "data": {
      "text/plain": [
       "44"
      ]
     },
     "execution_count": 781,
     "metadata": {},
     "output_type": "execute_result"
    }
   ],
   "source": [
    "df.city.nunique()"
   ]
  },
  {
   "cell_type": "code",
   "execution_count": 782,
   "metadata": {},
   "outputs": [
    {
     "data": {
      "text/plain": [
       "city\n",
       "Seattle                1573\n",
       "Renton                  293\n",
       "Bellevue                286\n",
       "Redmond                 235\n",
       "Issaquah                187\n",
       "Kirkland                187\n",
       "Kent                    185\n",
       "Auburn                  176\n",
       "Sammamish               175\n",
       "Federal Way             148\n",
       "Shoreline               123\n",
       "Woodinville             115\n",
       "Maple Valley             96\n",
       "Mercer Island            86\n",
       "Burien                   74\n",
       "Snoqualmie               71\n",
       "Kenmore                  66\n",
       "Des Moines               58\n",
       "North Bend               50\n",
       "Covington                43\n",
       "Duvall                   42\n",
       "Lake Forest Park         36\n",
       "Bothell                  33\n",
       "Newcastle                33\n",
       "SeaTac                   29\n",
       "Tukwila                  29\n",
       "Vashon                   29\n",
       "Enumclaw                 28\n",
       "Carnation                22\n",
       "Normandy Park            18\n",
       "Clyde Hill               11\n",
       "Medina                   11\n",
       "Fall City                11\n",
       "Black Diamond             9\n",
       "Ravensdale                7\n",
       "Pacific                   6\n",
       "Algona                    5\n",
       "Yarrow Point              4\n",
       "Skykomish                 3\n",
       "Preston                   2\n",
       "Milton                    2\n",
       "Inglewood-Finn Hill       1\n",
       "Snoqualmie Pass           1\n",
       "Beaux Arts Village        1\n",
       "Name: count, dtype: int64"
      ]
     },
     "execution_count": 782,
     "metadata": {},
     "output_type": "execute_result"
    }
   ],
   "source": [
    "df.city.value_counts()"
   ]
  },
  {
   "cell_type": "code",
   "execution_count": 783,
   "metadata": {},
   "outputs": [],
   "source": [
    "loc_lessthan_10=loc_stats[loc_stats<=10]\n",
    "df.city=df.city.apply(lambda x:'other' if x in loc_lessthan_10 else x)"
   ]
  },
  {
   "cell_type": "code",
   "execution_count": 784,
   "metadata": {},
   "outputs": [
    {
     "data": {
      "text/plain": [
       "city\n",
       "Seattle             1573\n",
       "Renton               293\n",
       "Bellevue             286\n",
       "Redmond              235\n",
       "Issaquah             187\n",
       "Kirkland             187\n",
       "Kent                 185\n",
       "Auburn               176\n",
       "Sammamish            175\n",
       "Federal Way          148\n",
       "Shoreline            123\n",
       "Woodinville          115\n",
       "Maple Valley          96\n",
       "Mercer Island         86\n",
       "Burien                74\n",
       "Snoqualmie            71\n",
       "Kenmore               66\n",
       "Des Moines            58\n",
       "North Bend            50\n",
       "Covington             43\n",
       "Duvall                42\n",
       "other                 41\n",
       "Lake Forest Park      36\n",
       "Newcastle             33\n",
       "Bothell               33\n",
       "SeaTac                29\n",
       "Tukwila               29\n",
       "Vashon                29\n",
       "Enumclaw              28\n",
       "Carnation             22\n",
       "Normandy Park         18\n",
       "Clyde Hill            11\n",
       "Medina                11\n",
       "Fall City             11\n",
       "Name: count, dtype: int64"
      ]
     },
     "execution_count": 784,
     "metadata": {},
     "output_type": "execute_result"
    }
   ],
   "source": [
    "df.city.value_counts()"
   ]
  },
  {
   "cell_type": "code",
   "execution_count": 785,
   "metadata": {},
   "outputs": [
    {
     "data": {
      "application/vnd.microsoft.datawrangler.viewer.v0+json": {
       "columns": [
        {
         "name": "index",
         "rawType": "object",
         "type": "string"
        },
        {
         "name": "price",
         "rawType": "float64",
         "type": "float"
        },
        {
         "name": "bedrooms",
         "rawType": "float64",
         "type": "float"
        },
        {
         "name": "bathrooms",
         "rawType": "float64",
         "type": "float"
        },
        {
         "name": "sqft_living",
         "rawType": "float64",
         "type": "float"
        },
        {
         "name": "sqft_lot",
         "rawType": "float64",
         "type": "float"
        },
        {
         "name": "floors",
         "rawType": "float64",
         "type": "float"
        },
        {
         "name": "yr_built",
         "rawType": "float64",
         "type": "float"
        },
        {
         "name": "price_per_sqft",
         "rawType": "float64",
         "type": "float"
        }
       ],
       "conversionMethod": "pd.DataFrame",
       "ref": "fad3a90c-1cd1-4a96-b101-fe966e22239d",
       "rows": [
        [
         "count",
         "4600.0",
         "4600.0",
         "4600.0",
         "4600.0",
         "4600.0",
         "4600.0",
         "4600.0",
         "4600.0"
        ],
        [
         "mean",
         "551962.9884732141",
         "3.4008695652173913",
         "1.788913043478261",
         "2139.3469565217392",
         "14852.516086956522",
         "1.565",
         "1970.786304347826",
         "265.87625997841366"
        ],
        [
         "std",
         "563834.7025471414",
         "0.9088481155258186",
         "0.7521852726067297",
         "963.2069157608643",
         "35884.43614480966",
         "0.5673904667215183",
         "29.73184839009964",
         "357.5033438155273"
        ],
        [
         "min",
         "0.0",
         "0.0",
         "0.0",
         "370.0",
         "638.0",
         "1.0",
         "1900.0",
         "0.0"
        ],
        [
         "25%",
         "322875.0",
         "3.0",
         "1.0",
         "1460.0",
         "5000.75",
         "1.0",
         "1951.0",
         "180.81902076390668"
        ],
        [
         "50%",
         "460943.46153850004",
         "3.0",
         "2.0",
         "1980.0",
         "7683.0",
         "2.0",
         "1976.0",
         "243.85387437945178"
        ],
        [
         "75%",
         "654962.5",
         "4.0",
         "2.0",
         "2620.0",
         "11001.25",
         "2.0",
         "1997.0",
         "314.8436186944832"
        ],
        [
         "max",
         "26590000.0",
         "9.0",
         "8.0",
         "13540.0",
         "1074218.0",
         "4.0",
         "2014.0",
         "22533.898305084746"
        ]
       ],
       "shape": {
        "columns": 8,
        "rows": 8
       }
      },
      "text/html": [
       "<div>\n",
       "<style scoped>\n",
       "    .dataframe tbody tr th:only-of-type {\n",
       "        vertical-align: middle;\n",
       "    }\n",
       "\n",
       "    .dataframe tbody tr th {\n",
       "        vertical-align: top;\n",
       "    }\n",
       "\n",
       "    .dataframe thead th {\n",
       "        text-align: right;\n",
       "    }\n",
       "</style>\n",
       "<table border=\"1\" class=\"dataframe\">\n",
       "  <thead>\n",
       "    <tr style=\"text-align: right;\">\n",
       "      <th></th>\n",
       "      <th>price</th>\n",
       "      <th>bedrooms</th>\n",
       "      <th>bathrooms</th>\n",
       "      <th>sqft_living</th>\n",
       "      <th>sqft_lot</th>\n",
       "      <th>floors</th>\n",
       "      <th>yr_built</th>\n",
       "      <th>price_per_sqft</th>\n",
       "    </tr>\n",
       "  </thead>\n",
       "  <tbody>\n",
       "    <tr>\n",
       "      <th>count</th>\n",
       "      <td>4.600000e+03</td>\n",
       "      <td>4600.000000</td>\n",
       "      <td>4600.000000</td>\n",
       "      <td>4600.000000</td>\n",
       "      <td>4.600000e+03</td>\n",
       "      <td>4600.00000</td>\n",
       "      <td>4600.000000</td>\n",
       "      <td>4600.000000</td>\n",
       "    </tr>\n",
       "    <tr>\n",
       "      <th>mean</th>\n",
       "      <td>5.519630e+05</td>\n",
       "      <td>3.400870</td>\n",
       "      <td>1.788913</td>\n",
       "      <td>2139.346957</td>\n",
       "      <td>1.485252e+04</td>\n",
       "      <td>1.56500</td>\n",
       "      <td>1970.786304</td>\n",
       "      <td>265.876260</td>\n",
       "    </tr>\n",
       "    <tr>\n",
       "      <th>std</th>\n",
       "      <td>5.638347e+05</td>\n",
       "      <td>0.908848</td>\n",
       "      <td>0.752185</td>\n",
       "      <td>963.206916</td>\n",
       "      <td>3.588444e+04</td>\n",
       "      <td>0.56739</td>\n",
       "      <td>29.731848</td>\n",
       "      <td>357.503344</td>\n",
       "    </tr>\n",
       "    <tr>\n",
       "      <th>min</th>\n",
       "      <td>0.000000e+00</td>\n",
       "      <td>0.000000</td>\n",
       "      <td>0.000000</td>\n",
       "      <td>370.000000</td>\n",
       "      <td>6.380000e+02</td>\n",
       "      <td>1.00000</td>\n",
       "      <td>1900.000000</td>\n",
       "      <td>0.000000</td>\n",
       "    </tr>\n",
       "    <tr>\n",
       "      <th>25%</th>\n",
       "      <td>3.228750e+05</td>\n",
       "      <td>3.000000</td>\n",
       "      <td>1.000000</td>\n",
       "      <td>1460.000000</td>\n",
       "      <td>5.000750e+03</td>\n",
       "      <td>1.00000</td>\n",
       "      <td>1951.000000</td>\n",
       "      <td>180.819021</td>\n",
       "    </tr>\n",
       "    <tr>\n",
       "      <th>50%</th>\n",
       "      <td>4.609435e+05</td>\n",
       "      <td>3.000000</td>\n",
       "      <td>2.000000</td>\n",
       "      <td>1980.000000</td>\n",
       "      <td>7.683000e+03</td>\n",
       "      <td>2.00000</td>\n",
       "      <td>1976.000000</td>\n",
       "      <td>243.853874</td>\n",
       "    </tr>\n",
       "    <tr>\n",
       "      <th>75%</th>\n",
       "      <td>6.549625e+05</td>\n",
       "      <td>4.000000</td>\n",
       "      <td>2.000000</td>\n",
       "      <td>2620.000000</td>\n",
       "      <td>1.100125e+04</td>\n",
       "      <td>2.00000</td>\n",
       "      <td>1997.000000</td>\n",
       "      <td>314.843619</td>\n",
       "    </tr>\n",
       "    <tr>\n",
       "      <th>max</th>\n",
       "      <td>2.659000e+07</td>\n",
       "      <td>9.000000</td>\n",
       "      <td>8.000000</td>\n",
       "      <td>13540.000000</td>\n",
       "      <td>1.074218e+06</td>\n",
       "      <td>4.00000</td>\n",
       "      <td>2014.000000</td>\n",
       "      <td>22533.898305</td>\n",
       "    </tr>\n",
       "  </tbody>\n",
       "</table>\n",
       "</div>"
      ],
      "text/plain": [
       "              price     bedrooms    bathrooms   sqft_living      sqft_lot  \\\n",
       "count  4.600000e+03  4600.000000  4600.000000   4600.000000  4.600000e+03   \n",
       "mean   5.519630e+05     3.400870     1.788913   2139.346957  1.485252e+04   \n",
       "std    5.638347e+05     0.908848     0.752185    963.206916  3.588444e+04   \n",
       "min    0.000000e+00     0.000000     0.000000    370.000000  6.380000e+02   \n",
       "25%    3.228750e+05     3.000000     1.000000   1460.000000  5.000750e+03   \n",
       "50%    4.609435e+05     3.000000     2.000000   1980.000000  7.683000e+03   \n",
       "75%    6.549625e+05     4.000000     2.000000   2620.000000  1.100125e+04   \n",
       "max    2.659000e+07     9.000000     8.000000  13540.000000  1.074218e+06   \n",
       "\n",
       "           floors     yr_built  price_per_sqft  \n",
       "count  4600.00000  4600.000000     4600.000000  \n",
       "mean      1.56500  1970.786304      265.876260  \n",
       "std       0.56739    29.731848      357.503344  \n",
       "min       1.00000  1900.000000        0.000000  \n",
       "25%       1.00000  1951.000000      180.819021  \n",
       "50%       2.00000  1976.000000      243.853874  \n",
       "75%       2.00000  1997.000000      314.843619  \n",
       "max       4.00000  2014.000000    22533.898305  "
      ]
     },
     "execution_count": 785,
     "metadata": {},
     "output_type": "execute_result"
    }
   ],
   "source": [
    "df.describe()"
   ]
  },
  {
   "cell_type": "code",
   "execution_count": 786,
   "metadata": {},
   "outputs": [],
   "source": [
    "df=df[df.price!=0]"
   ]
  },
  {
   "cell_type": "code",
   "execution_count": 787,
   "metadata": {},
   "outputs": [],
   "source": [
    "import math\n",
    "df.loc[df.bedrooms==0,'bedrooms']=math.floor(df.bedrooms.mean())\n",
    "df.loc[df.bathrooms==0,'bathrooms']=math.floor(df.bathrooms.mean())\n"
   ]
  },
  {
   "cell_type": "code",
   "execution_count": 788,
   "metadata": {},
   "outputs": [
    {
     "data": {
      "text/plain": [
       "(-806.3146174622393, 1343.792444709307)"
      ]
     },
     "execution_count": 788,
     "metadata": {},
     "output_type": "execute_result"
    }
   ],
   "source": [
    "lower=df.price_per_sqft.mean()-3*df.price_per_sqft.std()\n",
    "upper=df.price_per_sqft.mean()+3*df.price_per_sqft.std()\n",
    "lower,upper"
   ]
  },
  {
   "cell_type": "code",
   "execution_count": 789,
   "metadata": {},
   "outputs": [
    {
     "data": {
      "application/vnd.microsoft.datawrangler.viewer.v0+json": {
       "columns": [
        {
         "name": "index",
         "rawType": "int64",
         "type": "integer"
        },
        {
         "name": "price",
         "rawType": "float64",
         "type": "float"
        },
        {
         "name": "bedrooms",
         "rawType": "float64",
         "type": "float"
        },
        {
         "name": "bathrooms",
         "rawType": "float64",
         "type": "float"
        },
        {
         "name": "sqft_living",
         "rawType": "int64",
         "type": "integer"
        },
        {
         "name": "sqft_lot",
         "rawType": "int64",
         "type": "integer"
        },
        {
         "name": "floors",
         "rawType": "float64",
         "type": "float"
        },
        {
         "name": "yr_built",
         "rawType": "int64",
         "type": "integer"
        },
        {
         "name": "city",
         "rawType": "object",
         "type": "string"
        },
        {
         "name": "price_per_sqft",
         "rawType": "float64",
         "type": "float"
        }
       ],
       "conversionMethod": "pd.DataFrame",
       "ref": "cbb27f2b-6101-4274-9449-1be4fcc94650",
       "rows": [
        [
         "0",
         "313000.0",
         "3.0",
         "1.0",
         "1340",
         "7912",
         "2.0",
         "1955",
         "Shoreline",
         "233.5820895522388"
        ],
        [
         "1",
         "2384000.0",
         "5.0",
         "2.0",
         "3650",
         "9050",
         "2.0",
         "1921",
         "Seattle",
         "653.1506849315068"
        ],
        [
         "2",
         "342000.0",
         "3.0",
         "2.0",
         "1930",
         "11947",
         "1.0",
         "1966",
         "Kent",
         "177.2020725388601"
        ],
        [
         "3",
         "420000.0",
         "3.0",
         "2.0",
         "2000",
         "8030",
         "1.0",
         "1963",
         "Bellevue",
         "210.0"
        ],
        [
         "4",
         "550000.0",
         "4.0",
         "2.0",
         "1940",
         "10500",
         "1.0",
         "1976",
         "Redmond",
         "283.50515463917526"
        ],
        [
         "5",
         "490000.0",
         "2.0",
         "1.0",
         "880",
         "6380",
         "1.0",
         "1938",
         "Seattle",
         "556.8181818181819"
        ],
        [
         "6",
         "335000.0",
         "2.0",
         "2.0",
         "1350",
         "2560",
         "1.0",
         "1976",
         "Redmond",
         "248.14814814814815"
        ],
        [
         "7",
         "482000.0",
         "4.0",
         "2.0",
         "2710",
         "35868",
         "2.0",
         "1989",
         "Maple Valley",
         "177.85977859778598"
        ],
        [
         "8",
         "452500.0",
         "3.0",
         "2.0",
         "2430",
         "88426",
         "1.0",
         "1985",
         "North Bend",
         "186.21399176954733"
        ],
        [
         "9",
         "640000.0",
         "4.0",
         "2.0",
         "1520",
         "6200",
         "2.0",
         "1945",
         "Seattle",
         "421.05263157894734"
        ]
       ],
       "shape": {
        "columns": 9,
        "rows": 10
       }
      },
      "text/html": [
       "<div>\n",
       "<style scoped>\n",
       "    .dataframe tbody tr th:only-of-type {\n",
       "        vertical-align: middle;\n",
       "    }\n",
       "\n",
       "    .dataframe tbody tr th {\n",
       "        vertical-align: top;\n",
       "    }\n",
       "\n",
       "    .dataframe thead th {\n",
       "        text-align: right;\n",
       "    }\n",
       "</style>\n",
       "<table border=\"1\" class=\"dataframe\">\n",
       "  <thead>\n",
       "    <tr style=\"text-align: right;\">\n",
       "      <th></th>\n",
       "      <th>price</th>\n",
       "      <th>bedrooms</th>\n",
       "      <th>bathrooms</th>\n",
       "      <th>sqft_living</th>\n",
       "      <th>sqft_lot</th>\n",
       "      <th>floors</th>\n",
       "      <th>yr_built</th>\n",
       "      <th>city</th>\n",
       "      <th>price_per_sqft</th>\n",
       "    </tr>\n",
       "  </thead>\n",
       "  <tbody>\n",
       "    <tr>\n",
       "      <th>0</th>\n",
       "      <td>313000.0</td>\n",
       "      <td>3.0</td>\n",
       "      <td>1.0</td>\n",
       "      <td>1340</td>\n",
       "      <td>7912</td>\n",
       "      <td>2.0</td>\n",
       "      <td>1955</td>\n",
       "      <td>Shoreline</td>\n",
       "      <td>233.582090</td>\n",
       "    </tr>\n",
       "    <tr>\n",
       "      <th>1</th>\n",
       "      <td>2384000.0</td>\n",
       "      <td>5.0</td>\n",
       "      <td>2.0</td>\n",
       "      <td>3650</td>\n",
       "      <td>9050</td>\n",
       "      <td>2.0</td>\n",
       "      <td>1921</td>\n",
       "      <td>Seattle</td>\n",
       "      <td>653.150685</td>\n",
       "    </tr>\n",
       "    <tr>\n",
       "      <th>2</th>\n",
       "      <td>342000.0</td>\n",
       "      <td>3.0</td>\n",
       "      <td>2.0</td>\n",
       "      <td>1930</td>\n",
       "      <td>11947</td>\n",
       "      <td>1.0</td>\n",
       "      <td>1966</td>\n",
       "      <td>Kent</td>\n",
       "      <td>177.202073</td>\n",
       "    </tr>\n",
       "    <tr>\n",
       "      <th>3</th>\n",
       "      <td>420000.0</td>\n",
       "      <td>3.0</td>\n",
       "      <td>2.0</td>\n",
       "      <td>2000</td>\n",
       "      <td>8030</td>\n",
       "      <td>1.0</td>\n",
       "      <td>1963</td>\n",
       "      <td>Bellevue</td>\n",
       "      <td>210.000000</td>\n",
       "    </tr>\n",
       "    <tr>\n",
       "      <th>4</th>\n",
       "      <td>550000.0</td>\n",
       "      <td>4.0</td>\n",
       "      <td>2.0</td>\n",
       "      <td>1940</td>\n",
       "      <td>10500</td>\n",
       "      <td>1.0</td>\n",
       "      <td>1976</td>\n",
       "      <td>Redmond</td>\n",
       "      <td>283.505155</td>\n",
       "    </tr>\n",
       "    <tr>\n",
       "      <th>5</th>\n",
       "      <td>490000.0</td>\n",
       "      <td>2.0</td>\n",
       "      <td>1.0</td>\n",
       "      <td>880</td>\n",
       "      <td>6380</td>\n",
       "      <td>1.0</td>\n",
       "      <td>1938</td>\n",
       "      <td>Seattle</td>\n",
       "      <td>556.818182</td>\n",
       "    </tr>\n",
       "    <tr>\n",
       "      <th>6</th>\n",
       "      <td>335000.0</td>\n",
       "      <td>2.0</td>\n",
       "      <td>2.0</td>\n",
       "      <td>1350</td>\n",
       "      <td>2560</td>\n",
       "      <td>1.0</td>\n",
       "      <td>1976</td>\n",
       "      <td>Redmond</td>\n",
       "      <td>248.148148</td>\n",
       "    </tr>\n",
       "    <tr>\n",
       "      <th>7</th>\n",
       "      <td>482000.0</td>\n",
       "      <td>4.0</td>\n",
       "      <td>2.0</td>\n",
       "      <td>2710</td>\n",
       "      <td>35868</td>\n",
       "      <td>2.0</td>\n",
       "      <td>1989</td>\n",
       "      <td>Maple Valley</td>\n",
       "      <td>177.859779</td>\n",
       "    </tr>\n",
       "    <tr>\n",
       "      <th>8</th>\n",
       "      <td>452500.0</td>\n",
       "      <td>3.0</td>\n",
       "      <td>2.0</td>\n",
       "      <td>2430</td>\n",
       "      <td>88426</td>\n",
       "      <td>1.0</td>\n",
       "      <td>1985</td>\n",
       "      <td>North Bend</td>\n",
       "      <td>186.213992</td>\n",
       "    </tr>\n",
       "    <tr>\n",
       "      <th>9</th>\n",
       "      <td>640000.0</td>\n",
       "      <td>4.0</td>\n",
       "      <td>2.0</td>\n",
       "      <td>1520</td>\n",
       "      <td>6200</td>\n",
       "      <td>2.0</td>\n",
       "      <td>1945</td>\n",
       "      <td>Seattle</td>\n",
       "      <td>421.052632</td>\n",
       "    </tr>\n",
       "  </tbody>\n",
       "</table>\n",
       "</div>"
      ],
      "text/plain": [
       "       price  bedrooms  bathrooms  sqft_living  sqft_lot  floors  yr_built  \\\n",
       "0   313000.0       3.0        1.0         1340      7912     2.0      1955   \n",
       "1  2384000.0       5.0        2.0         3650      9050     2.0      1921   \n",
       "2   342000.0       3.0        2.0         1930     11947     1.0      1966   \n",
       "3   420000.0       3.0        2.0         2000      8030     1.0      1963   \n",
       "4   550000.0       4.0        2.0         1940     10500     1.0      1976   \n",
       "5   490000.0       2.0        1.0          880      6380     1.0      1938   \n",
       "6   335000.0       2.0        2.0         1350      2560     1.0      1976   \n",
       "7   482000.0       4.0        2.0         2710     35868     2.0      1989   \n",
       "8   452500.0       3.0        2.0         2430     88426     1.0      1985   \n",
       "9   640000.0       4.0        2.0         1520      6200     2.0      1945   \n",
       "\n",
       "           city  price_per_sqft  \n",
       "0     Shoreline      233.582090  \n",
       "1       Seattle      653.150685  \n",
       "2          Kent      177.202073  \n",
       "3      Bellevue      210.000000  \n",
       "4       Redmond      283.505155  \n",
       "5       Seattle      556.818182  \n",
       "6       Redmond      248.148148  \n",
       "7  Maple Valley      177.859779  \n",
       "8    North Bend      186.213992  \n",
       "9       Seattle      421.052632  "
      ]
     },
     "execution_count": 789,
     "metadata": {},
     "output_type": "execute_result"
    }
   ],
   "source": [
    "df=df[(df.price_per_sqft>=lower) & (df.price_per_sqft<=upper)]\n",
    "df.head(10)"
   ]
  },
  {
   "cell_type": "code",
   "execution_count": 790,
   "metadata": {},
   "outputs": [
    {
     "data": {
      "application/vnd.microsoft.datawrangler.viewer.v0+json": {
       "columns": [
        {
         "name": "index",
         "rawType": "int64",
         "type": "integer"
        },
        {
         "name": "price",
         "rawType": "float64",
         "type": "float"
        },
        {
         "name": "bedrooms",
         "rawType": "float64",
         "type": "float"
        },
        {
         "name": "bathrooms",
         "rawType": "float64",
         "type": "float"
        },
        {
         "name": "sqft_living",
         "rawType": "int64",
         "type": "integer"
        },
        {
         "name": "sqft_lot",
         "rawType": "int64",
         "type": "integer"
        },
        {
         "name": "floors",
         "rawType": "float64",
         "type": "float"
        },
        {
         "name": "yr_built",
         "rawType": "int64",
         "type": "integer"
        },
        {
         "name": "city",
         "rawType": "object",
         "type": "string"
        },
        {
         "name": "price_per_sqft",
         "rawType": "float64",
         "type": "float"
        },
        {
         "name": "sqft_per_bedroom",
         "rawType": "float64",
         "type": "float"
        }
       ],
       "conversionMethod": "pd.DataFrame",
       "ref": "fd65e27c-907b-415c-a87c-28e52f4f23ae",
       "rows": [
        [
         "4590",
         "380680.555556",
         "4.0",
         "2.0",
         "2620",
         "8331",
         "2.0",
         "1991",
         "Renton",
         "145.29792196793892",
         "655.0"
        ],
        [
         "4591",
         "396166.666667",
         "3.0",
         "1.0",
         "1880",
         "5752",
         "1.0",
         "1945",
         "Seattle",
         "210.72695035478722",
         "626.6666666666666"
        ],
        [
         "4592",
         "252980.0",
         "4.0",
         "2.0",
         "2530",
         "8169",
         "2.0",
         "1993",
         "Federal Way",
         "99.99209486166008",
         "632.5"
        ],
        [
         "4593",
         "289373.307692",
         "3.0",
         "2.0",
         "2538",
         "4600",
         "2.0",
         "2013",
         "Auburn",
         "114.01627568636722",
         "846.0"
        ],
        [
         "4594",
         "210614.285714",
         "3.0",
         "2.0",
         "1610",
         "7223",
         "2.0",
         "1994",
         "Kent",
         "130.8163265304348",
         "536.6666666666666"
        ],
        [
         "4595",
         "308166.666667",
         "3.0",
         "1.0",
         "1510",
         "6360",
         "1.0",
         "1954",
         "Seattle",
         "204.08388520993375",
         "503.3333333333333"
        ],
        [
         "4596",
         "534333.333333",
         "3.0",
         "2.0",
         "1460",
         "7573",
         "2.0",
         "1983",
         "Bellevue",
         "365.981735159589",
         "486.6666666666667"
        ],
        [
         "4597",
         "416904.166667",
         "3.0",
         "2.0",
         "3010",
         "7014",
         "2.0",
         "2009",
         "Renton",
         "138.50636766345514",
         "1003.3333333333334"
        ],
        [
         "4598",
         "203400.0",
         "4.0",
         "2.0",
         "2090",
         "6630",
         "1.0",
         "1974",
         "Seattle",
         "97.32057416267942",
         "522.5"
        ],
        [
         "4599",
         "220600.0",
         "3.0",
         "2.0",
         "1490",
         "8102",
         "2.0",
         "1990",
         "Covington",
         "148.05369127516778",
         "496.6666666666667"
        ]
       ],
       "shape": {
        "columns": 10,
        "rows": 10
       }
      },
      "text/html": [
       "<div>\n",
       "<style scoped>\n",
       "    .dataframe tbody tr th:only-of-type {\n",
       "        vertical-align: middle;\n",
       "    }\n",
       "\n",
       "    .dataframe tbody tr th {\n",
       "        vertical-align: top;\n",
       "    }\n",
       "\n",
       "    .dataframe thead th {\n",
       "        text-align: right;\n",
       "    }\n",
       "</style>\n",
       "<table border=\"1\" class=\"dataframe\">\n",
       "  <thead>\n",
       "    <tr style=\"text-align: right;\">\n",
       "      <th></th>\n",
       "      <th>price</th>\n",
       "      <th>bedrooms</th>\n",
       "      <th>bathrooms</th>\n",
       "      <th>sqft_living</th>\n",
       "      <th>sqft_lot</th>\n",
       "      <th>floors</th>\n",
       "      <th>yr_built</th>\n",
       "      <th>city</th>\n",
       "      <th>price_per_sqft</th>\n",
       "      <th>sqft_per_bedroom</th>\n",
       "    </tr>\n",
       "  </thead>\n",
       "  <tbody>\n",
       "    <tr>\n",
       "      <th>4590</th>\n",
       "      <td>380680.555556</td>\n",
       "      <td>4.0</td>\n",
       "      <td>2.0</td>\n",
       "      <td>2620</td>\n",
       "      <td>8331</td>\n",
       "      <td>2.0</td>\n",
       "      <td>1991</td>\n",
       "      <td>Renton</td>\n",
       "      <td>145.297922</td>\n",
       "      <td>655.000000</td>\n",
       "    </tr>\n",
       "    <tr>\n",
       "      <th>4591</th>\n",
       "      <td>396166.666667</td>\n",
       "      <td>3.0</td>\n",
       "      <td>1.0</td>\n",
       "      <td>1880</td>\n",
       "      <td>5752</td>\n",
       "      <td>1.0</td>\n",
       "      <td>1945</td>\n",
       "      <td>Seattle</td>\n",
       "      <td>210.726950</td>\n",
       "      <td>626.666667</td>\n",
       "    </tr>\n",
       "    <tr>\n",
       "      <th>4592</th>\n",
       "      <td>252980.000000</td>\n",
       "      <td>4.0</td>\n",
       "      <td>2.0</td>\n",
       "      <td>2530</td>\n",
       "      <td>8169</td>\n",
       "      <td>2.0</td>\n",
       "      <td>1993</td>\n",
       "      <td>Federal Way</td>\n",
       "      <td>99.992095</td>\n",
       "      <td>632.500000</td>\n",
       "    </tr>\n",
       "    <tr>\n",
       "      <th>4593</th>\n",
       "      <td>289373.307692</td>\n",
       "      <td>3.0</td>\n",
       "      <td>2.0</td>\n",
       "      <td>2538</td>\n",
       "      <td>4600</td>\n",
       "      <td>2.0</td>\n",
       "      <td>2013</td>\n",
       "      <td>Auburn</td>\n",
       "      <td>114.016276</td>\n",
       "      <td>846.000000</td>\n",
       "    </tr>\n",
       "    <tr>\n",
       "      <th>4594</th>\n",
       "      <td>210614.285714</td>\n",
       "      <td>3.0</td>\n",
       "      <td>2.0</td>\n",
       "      <td>1610</td>\n",
       "      <td>7223</td>\n",
       "      <td>2.0</td>\n",
       "      <td>1994</td>\n",
       "      <td>Kent</td>\n",
       "      <td>130.816327</td>\n",
       "      <td>536.666667</td>\n",
       "    </tr>\n",
       "    <tr>\n",
       "      <th>4595</th>\n",
       "      <td>308166.666667</td>\n",
       "      <td>3.0</td>\n",
       "      <td>1.0</td>\n",
       "      <td>1510</td>\n",
       "      <td>6360</td>\n",
       "      <td>1.0</td>\n",
       "      <td>1954</td>\n",
       "      <td>Seattle</td>\n",
       "      <td>204.083885</td>\n",
       "      <td>503.333333</td>\n",
       "    </tr>\n",
       "    <tr>\n",
       "      <th>4596</th>\n",
       "      <td>534333.333333</td>\n",
       "      <td>3.0</td>\n",
       "      <td>2.0</td>\n",
       "      <td>1460</td>\n",
       "      <td>7573</td>\n",
       "      <td>2.0</td>\n",
       "      <td>1983</td>\n",
       "      <td>Bellevue</td>\n",
       "      <td>365.981735</td>\n",
       "      <td>486.666667</td>\n",
       "    </tr>\n",
       "    <tr>\n",
       "      <th>4597</th>\n",
       "      <td>416904.166667</td>\n",
       "      <td>3.0</td>\n",
       "      <td>2.0</td>\n",
       "      <td>3010</td>\n",
       "      <td>7014</td>\n",
       "      <td>2.0</td>\n",
       "      <td>2009</td>\n",
       "      <td>Renton</td>\n",
       "      <td>138.506368</td>\n",
       "      <td>1003.333333</td>\n",
       "    </tr>\n",
       "    <tr>\n",
       "      <th>4598</th>\n",
       "      <td>203400.000000</td>\n",
       "      <td>4.0</td>\n",
       "      <td>2.0</td>\n",
       "      <td>2090</td>\n",
       "      <td>6630</td>\n",
       "      <td>1.0</td>\n",
       "      <td>1974</td>\n",
       "      <td>Seattle</td>\n",
       "      <td>97.320574</td>\n",
       "      <td>522.500000</td>\n",
       "    </tr>\n",
       "    <tr>\n",
       "      <th>4599</th>\n",
       "      <td>220600.000000</td>\n",
       "      <td>3.0</td>\n",
       "      <td>2.0</td>\n",
       "      <td>1490</td>\n",
       "      <td>8102</td>\n",
       "      <td>2.0</td>\n",
       "      <td>1990</td>\n",
       "      <td>Covington</td>\n",
       "      <td>148.053691</td>\n",
       "      <td>496.666667</td>\n",
       "    </tr>\n",
       "  </tbody>\n",
       "</table>\n",
       "</div>"
      ],
      "text/plain": [
       "              price  bedrooms  bathrooms  sqft_living  sqft_lot  floors  \\\n",
       "4590  380680.555556       4.0        2.0         2620      8331     2.0   \n",
       "4591  396166.666667       3.0        1.0         1880      5752     1.0   \n",
       "4592  252980.000000       4.0        2.0         2530      8169     2.0   \n",
       "4593  289373.307692       3.0        2.0         2538      4600     2.0   \n",
       "4594  210614.285714       3.0        2.0         1610      7223     2.0   \n",
       "4595  308166.666667       3.0        1.0         1510      6360     1.0   \n",
       "4596  534333.333333       3.0        2.0         1460      7573     2.0   \n",
       "4597  416904.166667       3.0        2.0         3010      7014     2.0   \n",
       "4598  203400.000000       4.0        2.0         2090      6630     1.0   \n",
       "4599  220600.000000       3.0        2.0         1490      8102     2.0   \n",
       "\n",
       "      yr_built         city  price_per_sqft  sqft_per_bedroom  \n",
       "4590      1991       Renton      145.297922        655.000000  \n",
       "4591      1945      Seattle      210.726950        626.666667  \n",
       "4592      1993  Federal Way       99.992095        632.500000  \n",
       "4593      2013       Auburn      114.016276        846.000000  \n",
       "4594      1994         Kent      130.816327        536.666667  \n",
       "4595      1954      Seattle      204.083885        503.333333  \n",
       "4596      1983     Bellevue      365.981735        486.666667  \n",
       "4597      2009       Renton      138.506368       1003.333333  \n",
       "4598      1974      Seattle       97.320574        522.500000  \n",
       "4599      1990    Covington      148.053691        496.666667  "
      ]
     },
     "execution_count": 790,
     "metadata": {},
     "output_type": "execute_result"
    }
   ],
   "source": [
    "df['sqft_per_bedroom']=df['sqft_living']/df['bedrooms']\n",
    "df.tail(10)\n"
   ]
  },
  {
   "cell_type": "code",
   "execution_count": 791,
   "metadata": {},
   "outputs": [
    {
     "data": {
      "text/plain": [
       "count    4547.000000\n",
       "mean      627.447281\n",
       "std       216.039541\n",
       "min       163.333333\n",
       "25%       476.666667\n",
       "50%       585.000000\n",
       "75%       735.000000\n",
       "max      2140.000000\n",
       "Name: sqft_per_bedroom, dtype: float64"
      ]
     },
     "execution_count": 791,
     "metadata": {},
     "output_type": "execute_result"
    }
   ],
   "source": [
    "df.sqft_per_bedroom.describe()"
   ]
  },
  {
   "cell_type": "code",
   "execution_count": 792,
   "metadata": {},
   "outputs": [
    {
     "data": {
      "text/plain": [
       "(-20.67134160116325, 1275.565903513605)"
      ]
     },
     "execution_count": 792,
     "metadata": {},
     "output_type": "execute_result"
    }
   ],
   "source": [
    "lower_bedroom=df.sqft_per_bedroom.mean()-3*df.sqft_per_bedroom.std()\n",
    "upper_bedroom=df.sqft_per_bedroom.mean()+3*df.sqft_per_bedroom.std()\n",
    "lower_bedroom,upper_bedroom\n"
   ]
  },
  {
   "cell_type": "code",
   "execution_count": 793,
   "metadata": {},
   "outputs": [
    {
     "data": {
      "text/plain": [
       "(4488, 10)"
      ]
     },
     "execution_count": 793,
     "metadata": {},
     "output_type": "execute_result"
    }
   ],
   "source": [
    "df=df[(df.sqft_per_bedroom>=lower_bedroom) & (df.sqft_per_bedroom<=upper_bedroom)]\n",
    "df.shape"
   ]
  },
  {
   "cell_type": "code",
   "execution_count": 794,
   "metadata": {},
   "outputs": [
    {
     "data": {
      "text/plain": [
       "city\n",
       "Seattle             1548\n",
       "Renton               288\n",
       "Bellevue             274\n",
       "Redmond              224\n",
       "Issaquah             185\n",
       "Kirkland             185\n",
       "Kent                 183\n",
       "Auburn               173\n",
       "Sammamish            169\n",
       "Federal Way          144\n",
       "Shoreline            122\n",
       "Woodinville          109\n",
       "Maple Valley          95\n",
       "Mercer Island         80\n",
       "Burien                71\n",
       "Snoqualmie            68\n",
       "Kenmore               65\n",
       "Des Moines            58\n",
       "North Bend            50\n",
       "Covington             41\n",
       "other                 40\n",
       "Duvall                40\n",
       "Lake Forest Park      34\n",
       "Newcastle             33\n",
       "Bothell               33\n",
       "Tukwila               29\n",
       "SeaTac                28\n",
       "Vashon                28\n",
       "Enumclaw              27\n",
       "Carnation             19\n",
       "Normandy Park         17\n",
       "Fall City             11\n",
       "Medina                 9\n",
       "Clyde Hill             8\n",
       "Name: count, dtype: int64"
      ]
     },
     "execution_count": 794,
     "metadata": {},
     "output_type": "execute_result"
    }
   ],
   "source": [
    "df.city.value_counts()"
   ]
  },
  {
   "cell_type": "code",
   "execution_count": 795,
   "metadata": {},
   "outputs": [],
   "source": [
    "b2=df[(df.bedrooms==2) &(df.city=='Seattle') &(df.yr_built==1949)]\n",
    "b3=df[(df.bedrooms==3) &(df.city=='Seattle')&(df.yr_built==1949) ]"
   ]
  },
  {
   "cell_type": "code",
   "execution_count": 796,
   "metadata": {},
   "outputs": [
    {
     "data": {
      "image/png": "[encoded data removed]",
      "text/plain": [
       "<Figure size 1500x1000 with 1 Axes>"
      ]
     },
     "metadata": {},
     "output_type": "display_data"
    }
   ],
   "source": [
    "import matplotlib\n",
    "import matplotlib.pyplot as plt\n",
    "plt.scatter(b2.sqft_living,b2.price,color='blue',s=10,label='2 bhk')\n",
    "plt.scatter(b3.sqft_living,b3.price,color='red',s=10,label='3 bhk')\n",
    "matplotlib.rcParams['figure.figsize']=(15,10)\n",
    "plt.legend()\n",
    "plt.show()"
   ]
  },
  {
   "cell_type": "code",
   "execution_count": 797,
   "metadata": {},
   "outputs": [
    {
     "data": {
      "text/plain": [
       "(4488, 10)"
      ]
     },
     "execution_count": 797,
     "metadata": {},
     "output_type": "execute_result"
    }
   ],
   "source": [
    "df.shape"
   ]
  },
  {
   "cell_type": "code",
   "execution_count": 798,
   "metadata": {},
   "outputs": [
    {
     "data": {
      "text/plain": [
       "(1873, 10)"
      ]
     },
     "execution_count": 798,
     "metadata": {},
     "output_type": "execute_result"
    }
   ],
   "source": [
    "def remove_bhk_outliers(df):\n",
    "    exclude_indices=np.array([])\n",
    "    for location, location_df in df.groupby('city'):\n",
    "        bhk_stats={}\n",
    "        for bhk,bhk_df in location_df.groupby('bedrooms'):\n",
    "            bhk_stats[bhk]={\n",
    "                'mean':np.mean(bhk_df.price_per_sqft),\n",
    "                'std':np.std(bhk_df.price_per_sqft),\n",
    "                'count':bhk_df.shape[0]\n",
    "            }\n",
    "\n",
    "        for bhk,bhk_df in location_df.groupby('bedrooms'):\n",
    "            stats=bhk_stats.get(bhk-1)\n",
    "            if stats and stats['count']>5:\n",
    "                exclude_indices=np.append(exclude_indices,bhk_df[bhk_df.price_per_sqft<(stats['mean'])].index.values)\n",
    "    return df.drop(exclude_indices,axis='index')\n",
    "df=remove_bhk_outliers(df)\n",
    "df.shape"
   ]
  },
  {
   "cell_type": "code",
   "execution_count": 799,
   "metadata": {},
   "outputs": [
    {
     "data": {
      "text/plain": [
       "(array([ 23., 468., 520., 454., 276.,  86.,  36.,   9.,   0.,   1.]),\n",
       " array([  10.        ,  109.47619048,  208.95238095,  308.42857143,\n",
       "         407.9047619 ,  507.38095238,  606.85714286,  706.33333333,\n",
       "         805.80952381,  905.28571429, 1004.76190476]),\n",
       " <BarContainer object of 10 artists>)"
      ]
     },
     "execution_count": 799,
     "metadata": {},
     "output_type": "execute_result"
    },
    {
     "data": {
      "image/png": "[encoded data removed]",
      "text/plain": [
       "<Figure size 1500x1000 with 1 Axes>"
      ]
     },
     "metadata": {},
     "output_type": "display_data"
    }
   ],
   "source": [
    "plt.hist(df.price_per_sqft,rwidth=0.8)"
   ]
  },
  {
   "cell_type": "code",
   "execution_count": 800,
   "metadata": {},
   "outputs": [
    {
     "data": {
      "application/vnd.microsoft.datawrangler.viewer.v0+json": {
       "columns": [
        {
         "name": "index",
         "rawType": "int64",
         "type": "integer"
        },
        {
         "name": "price",
         "rawType": "float64",
         "type": "float"
        },
        {
         "name": "bedrooms",
         "rawType": "float64",
         "type": "float"
        },
        {
         "name": "bathrooms",
         "rawType": "float64",
         "type": "float"
        },
        {
         "name": "sqft_living",
         "rawType": "int64",
         "type": "integer"
        },
        {
         "name": "sqft_lot",
         "rawType": "int64",
         "type": "integer"
        },
        {
         "name": "floors",
         "rawType": "float64",
         "type": "float"
        },
        {
         "name": "yr_built",
         "rawType": "int64",
         "type": "integer"
        },
        {
         "name": "city",
         "rawType": "object",
         "type": "string"
        },
        {
         "name": "price_per_sqft",
         "rawType": "float64",
         "type": "float"
        },
        {
         "name": "sqft_per_bedroom",
         "rawType": "float64",
         "type": "float"
        }
       ],
       "conversionMethod": "pd.DataFrame",
       "ref": "1c28098b-6a4c-424d-9dd5-ef64a5a2b7d1",
       "rows": [
        [
         "75",
         "531000.0",
         "2.0",
         "3.0",
         "1270",
         "1175",
         "2.0",
         "2000",
         "Seattle",
         "418.1102362204724",
         "635.0"
        ],
        [
         "1209",
         "2150000.0",
         "4.0",
         "5.0",
         "5060",
         "10320",
         "2.0",
         "2008",
         "Bellevue",
         "424.901185770751",
         "1265.0"
        ],
        [
         "3609",
         "1600000.0",
         "3.0",
         "4.0",
         "2820",
         "7200",
         "2.0",
         "1930",
         "Seattle",
         "567.3758865248227",
         "940.0"
        ],
        [
         "4113",
         "115000.0",
         "1.0",
         "2.0",
         "1150",
         "9812",
         "1.0",
         "1962",
         "Auburn",
         "100.0",
         "1150.0"
        ]
       ],
       "shape": {
        "columns": 10,
        "rows": 4
       }
      },
      "text/html": [
       "<div>\n",
       "<style scoped>\n",
       "    .dataframe tbody tr th:only-of-type {\n",
       "        vertical-align: middle;\n",
       "    }\n",
       "\n",
       "    .dataframe tbody tr th {\n",
       "        vertical-align: top;\n",
       "    }\n",
       "\n",
       "    .dataframe thead th {\n",
       "        text-align: right;\n",
       "    }\n",
       "</style>\n",
       "<table border=\"1\" class=\"dataframe\">\n",
       "  <thead>\n",
       "    <tr style=\"text-align: right;\">\n",
       "      <th></th>\n",
       "      <th>price</th>\n",
       "      <th>bedrooms</th>\n",
       "      <th>bathrooms</th>\n",
       "      <th>sqft_living</th>\n",
       "      <th>sqft_lot</th>\n",
       "      <th>floors</th>\n",
       "      <th>yr_built</th>\n",
       "      <th>city</th>\n",
       "      <th>price_per_sqft</th>\n",
       "      <th>sqft_per_bedroom</th>\n",
       "    </tr>\n",
       "  </thead>\n",
       "  <tbody>\n",
       "    <tr>\n",
       "      <th>75</th>\n",
       "      <td>531000.0</td>\n",
       "      <td>2.0</td>\n",
       "      <td>3.0</td>\n",
       "      <td>1270</td>\n",
       "      <td>1175</td>\n",
       "      <td>2.0</td>\n",
       "      <td>2000</td>\n",
       "      <td>Seattle</td>\n",
       "      <td>418.110236</td>\n",
       "      <td>635.0</td>\n",
       "    </tr>\n",
       "    <tr>\n",
       "      <th>1209</th>\n",
       "      <td>2150000.0</td>\n",
       "      <td>4.0</td>\n",
       "      <td>5.0</td>\n",
       "      <td>5060</td>\n",
       "      <td>10320</td>\n",
       "      <td>2.0</td>\n",
       "      <td>2008</td>\n",
       "      <td>Bellevue</td>\n",
       "      <td>424.901186</td>\n",
       "      <td>1265.0</td>\n",
       "    </tr>\n",
       "    <tr>\n",
       "      <th>3609</th>\n",
       "      <td>1600000.0</td>\n",
       "      <td>3.0</td>\n",
       "      <td>4.0</td>\n",
       "      <td>2820</td>\n",
       "      <td>7200</td>\n",
       "      <td>2.0</td>\n",
       "      <td>1930</td>\n",
       "      <td>Seattle</td>\n",
       "      <td>567.375887</td>\n",
       "      <td>940.0</td>\n",
       "    </tr>\n",
       "    <tr>\n",
       "      <th>4113</th>\n",
       "      <td>115000.0</td>\n",
       "      <td>1.0</td>\n",
       "      <td>2.0</td>\n",
       "      <td>1150</td>\n",
       "      <td>9812</td>\n",
       "      <td>1.0</td>\n",
       "      <td>1962</td>\n",
       "      <td>Auburn</td>\n",
       "      <td>100.000000</td>\n",
       "      <td>1150.0</td>\n",
       "    </tr>\n",
       "  </tbody>\n",
       "</table>\n",
       "</div>"
      ],
      "text/plain": [
       "          price  bedrooms  bathrooms  sqft_living  sqft_lot  floors  yr_built  \\\n",
       "75     531000.0       2.0        3.0         1270      1175     2.0      2000   \n",
       "1209  2150000.0       4.0        5.0         5060     10320     2.0      2008   \n",
       "3609  1600000.0       3.0        4.0         2820      7200     2.0      1930   \n",
       "4113   115000.0       1.0        2.0         1150      9812     1.0      1962   \n",
       "\n",
       "          city  price_per_sqft  sqft_per_bedroom  \n",
       "75     Seattle      418.110236             635.0  \n",
       "1209  Bellevue      424.901186            1265.0  \n",
       "3609   Seattle      567.375887             940.0  \n",
       "4113    Auburn      100.000000            1150.0  "
      ]
     },
     "execution_count": 800,
     "metadata": {},
     "output_type": "execute_result"
    }
   ],
   "source": [
    "df[df.bedrooms<df.bathrooms]"
   ]
  },
  {
   "cell_type": "code",
   "execution_count": 801,
   "metadata": {},
   "outputs": [
    {
     "data": {
      "application/vnd.microsoft.datawrangler.viewer.v0+json": {
       "columns": [
        {
         "name": "index",
         "rawType": "int64",
         "type": "integer"
        },
        {
         "name": "price",
         "rawType": "float64",
         "type": "float"
        },
        {
         "name": "bedrooms",
         "rawType": "float64",
         "type": "float"
        },
        {
         "name": "bathrooms",
         "rawType": "float64",
         "type": "float"
        },
        {
         "name": "sqft_living",
         "rawType": "int64",
         "type": "integer"
        },
        {
         "name": "sqft_lot",
         "rawType": "int64",
         "type": "integer"
        },
        {
         "name": "floors",
         "rawType": "float64",
         "type": "float"
        },
        {
         "name": "yr_built",
         "rawType": "int64",
         "type": "integer"
        },
        {
         "name": "city",
         "rawType": "object",
         "type": "string"
        },
        {
         "name": "price_per_sqft",
         "rawType": "float64",
         "type": "float"
        },
        {
         "name": "sqft_per_bedroom",
         "rawType": "float64",
         "type": "float"
        }
       ],
       "conversionMethod": "pd.DataFrame",
       "ref": "74f703ad-b82e-4995-892e-15f01e827400",
       "rows": [
        [
         "1",
         "2384000.0",
         "5.0",
         "2.0",
         "3650",
         "9050",
         "2.0",
         "1921",
         "Seattle",
         "653.1506849315068",
         "730.0"
        ],
        [
         "5",
         "490000.0",
         "2.0",
         "1.0",
         "880",
         "6380",
         "1.0",
         "1938",
         "Seattle",
         "556.8181818181819",
         "440.0"
        ],
        [
         "6",
         "335000.0",
         "2.0",
         "2.0",
         "1350",
         "2560",
         "1.0",
         "1976",
         "Redmond",
         "248.14814814814815",
         "675.0"
        ],
        [
         "7",
         "482000.0",
         "4.0",
         "2.0",
         "2710",
         "35868",
         "2.0",
         "1989",
         "Maple Valley",
         "177.85977859778598",
         "677.5"
        ],
        [
         "8",
         "452500.0",
         "3.0",
         "2.0",
         "2430",
         "88426",
         "1.0",
         "1985",
         "North Bend",
         "186.21399176954733",
         "810.0"
        ]
       ],
       "shape": {
        "columns": 10,
        "rows": 5
       }
      },
      "text/html": [
       "<div>\n",
       "<style scoped>\n",
       "    .dataframe tbody tr th:only-of-type {\n",
       "        vertical-align: middle;\n",
       "    }\n",
       "\n",
       "    .dataframe tbody tr th {\n",
       "        vertical-align: top;\n",
       "    }\n",
       "\n",
       "    .dataframe thead th {\n",
       "        text-align: right;\n",
       "    }\n",
       "</style>\n",
       "<table border=\"1\" class=\"dataframe\">\n",
       "  <thead>\n",
       "    <tr style=\"text-align: right;\">\n",
       "      <th></th>\n",
       "      <th>price</th>\n",
       "      <th>bedrooms</th>\n",
       "      <th>bathrooms</th>\n",
       "      <th>sqft_living</th>\n",
       "      <th>sqft_lot</th>\n",
       "      <th>floors</th>\n",
       "      <th>yr_built</th>\n",
       "      <th>city</th>\n",
       "      <th>price_per_sqft</th>\n",
       "      <th>sqft_per_bedroom</th>\n",
       "    </tr>\n",
       "  </thead>\n",
       "  <tbody>\n",
       "    <tr>\n",
       "      <th>1</th>\n",
       "      <td>2384000.0</td>\n",
       "      <td>5.0</td>\n",
       "      <td>2.0</td>\n",
       "      <td>3650</td>\n",
       "      <td>9050</td>\n",
       "      <td>2.0</td>\n",
       "      <td>1921</td>\n",
       "      <td>Seattle</td>\n",
       "      <td>653.150685</td>\n",
       "      <td>730.0</td>\n",
       "    </tr>\n",
       "    <tr>\n",
       "      <th>5</th>\n",
       "      <td>490000.0</td>\n",
       "      <td>2.0</td>\n",
       "      <td>1.0</td>\n",
       "      <td>880</td>\n",
       "      <td>6380</td>\n",
       "      <td>1.0</td>\n",
       "      <td>1938</td>\n",
       "      <td>Seattle</td>\n",
       "      <td>556.818182</td>\n",
       "      <td>440.0</td>\n",
       "    </tr>\n",
       "    <tr>\n",
       "      <th>6</th>\n",
       "      <td>335000.0</td>\n",
       "      <td>2.0</td>\n",
       "      <td>2.0</td>\n",
       "      <td>1350</td>\n",
       "      <td>2560</td>\n",
       "      <td>1.0</td>\n",
       "      <td>1976</td>\n",
       "      <td>Redmond</td>\n",
       "      <td>248.148148</td>\n",
       "      <td>675.0</td>\n",
       "    </tr>\n",
       "    <tr>\n",
       "      <th>7</th>\n",
       "      <td>482000.0</td>\n",
       "      <td>4.0</td>\n",
       "      <td>2.0</td>\n",
       "      <td>2710</td>\n",
       "      <td>35868</td>\n",
       "      <td>2.0</td>\n",
       "      <td>1989</td>\n",
       "      <td>Maple Valley</td>\n",
       "      <td>177.859779</td>\n",
       "      <td>677.5</td>\n",
       "    </tr>\n",
       "    <tr>\n",
       "      <th>8</th>\n",
       "      <td>452500.0</td>\n",
       "      <td>3.0</td>\n",
       "      <td>2.0</td>\n",
       "      <td>2430</td>\n",
       "      <td>88426</td>\n",
       "      <td>1.0</td>\n",
       "      <td>1985</td>\n",
       "      <td>North Bend</td>\n",
       "      <td>186.213992</td>\n",
       "      <td>810.0</td>\n",
       "    </tr>\n",
       "  </tbody>\n",
       "</table>\n",
       "</div>"
      ],
      "text/plain": [
       "       price  bedrooms  bathrooms  sqft_living  sqft_lot  floors  yr_built  \\\n",
       "1  2384000.0       5.0        2.0         3650      9050     2.0      1921   \n",
       "5   490000.0       2.0        1.0          880      6380     1.0      1938   \n",
       "6   335000.0       2.0        2.0         1350      2560     1.0      1976   \n",
       "7   482000.0       4.0        2.0         2710     35868     2.0      1989   \n",
       "8   452500.0       3.0        2.0         2430     88426     1.0      1985   \n",
       "\n",
       "           city  price_per_sqft  sqft_per_bedroom  \n",
       "1       Seattle      653.150685             730.0  \n",
       "5       Seattle      556.818182             440.0  \n",
       "6       Redmond      248.148148             675.0  \n",
       "7  Maple Valley      177.859779             677.5  \n",
       "8    North Bend      186.213992             810.0  "
      ]
     },
     "execution_count": 801,
     "metadata": {},
     "output_type": "execute_result"
    }
   ],
   "source": [
    "df.head()"
   ]
  },
  {
   "cell_type": "code",
   "execution_count": 802,
   "metadata": {},
   "outputs": [
    {
     "data": {
      "text/plain": [
       "(1873, 6)"
      ]
     },
     "execution_count": 802,
     "metadata": {},
     "output_type": "execute_result"
    }
   ],
   "source": [
    "df.drop(['sqft_lot','price_per_sqft','sqft_per_bedroom','yr_built'],axis='columns',inplace=True)\n",
    "df.shape"
   ]
  },
  {
   "cell_type": "code",
   "execution_count": 803,
   "metadata": {},
   "outputs": [
    {
     "data": {
      "application/vnd.microsoft.datawrangler.viewer.v0+json": {
       "columns": [
        {
         "name": "index",
         "rawType": "int64",
         "type": "integer"
        },
        {
         "name": "price",
         "rawType": "float64",
         "type": "float"
        },
        {
         "name": "bedrooms",
         "rawType": "float64",
         "type": "float"
        },
        {
         "name": "bathrooms",
         "rawType": "float64",
         "type": "float"
        },
        {
         "name": "sqft_living",
         "rawType": "int64",
         "type": "integer"
        },
        {
         "name": "floors",
         "rawType": "float64",
         "type": "float"
        },
        {
         "name": "city",
         "rawType": "object",
         "type": "string"
        }
       ],
       "conversionMethod": "pd.DataFrame",
       "ref": "8c51f821-1249-4865-bf49-7975eb27e413",
       "rows": [
        [
         "1",
         "2384000.0",
         "5.0",
         "2.0",
         "3650",
         "2.0",
         "Seattle"
        ],
        [
         "5",
         "490000.0",
         "2.0",
         "1.0",
         "880",
         "1.0",
         "Seattle"
        ],
        [
         "6",
         "335000.0",
         "2.0",
         "2.0",
         "1350",
         "1.0",
         "Redmond"
        ],
        [
         "7",
         "482000.0",
         "4.0",
         "2.0",
         "2710",
         "2.0",
         "Maple Valley"
        ],
        [
         "8",
         "452500.0",
         "3.0",
         "2.0",
         "2430",
         "1.0",
         "North Bend"
        ]
       ],
       "shape": {
        "columns": 6,
        "rows": 5
       }
      },
      "text/html": [
       "<div>\n",
       "<style scoped>\n",
       "    .dataframe tbody tr th:only-of-type {\n",
       "        vertical-align: middle;\n",
       "    }\n",
       "\n",
       "    .dataframe tbody tr th {\n",
       "        vertical-align: top;\n",
       "    }\n",
       "\n",
       "    .dataframe thead th {\n",
       "        text-align: right;\n",
       "    }\n",
       "</style>\n",
       "<table border=\"1\" class=\"dataframe\">\n",
       "  <thead>\n",
       "    <tr style=\"text-align: right;\">\n",
       "      <th></th>\n",
       "      <th>price</th>\n",
       "      <th>bedrooms</th>\n",
       "      <th>bathrooms</th>\n",
       "      <th>sqft_living</th>\n",
       "      <th>floors</th>\n",
       "      <th>city</th>\n",
       "    </tr>\n",
       "  </thead>\n",
       "  <tbody>\n",
       "    <tr>\n",
       "      <th>1</th>\n",
       "      <td>2384000.0</td>\n",
       "      <td>5.0</td>\n",
       "      <td>2.0</td>\n",
       "      <td>3650</td>\n",
       "      <td>2.0</td>\n",
       "      <td>Seattle</td>\n",
       "    </tr>\n",
       "    <tr>\n",
       "      <th>5</th>\n",
       "      <td>490000.0</td>\n",
       "      <td>2.0</td>\n",
       "      <td>1.0</td>\n",
       "      <td>880</td>\n",
       "      <td>1.0</td>\n",
       "      <td>Seattle</td>\n",
       "    </tr>\n",
       "    <tr>\n",
       "      <th>6</th>\n",
       "      <td>335000.0</td>\n",
       "      <td>2.0</td>\n",
       "      <td>2.0</td>\n",
       "      <td>1350</td>\n",
       "      <td>1.0</td>\n",
       "      <td>Redmond</td>\n",
       "    </tr>\n",
       "    <tr>\n",
       "      <th>7</th>\n",
       "      <td>482000.0</td>\n",
       "      <td>4.0</td>\n",
       "      <td>2.0</td>\n",
       "      <td>2710</td>\n",
       "      <td>2.0</td>\n",
       "      <td>Maple Valley</td>\n",
       "    </tr>\n",
       "    <tr>\n",
       "      <th>8</th>\n",
       "      <td>452500.0</td>\n",
       "      <td>3.0</td>\n",
       "      <td>2.0</td>\n",
       "      <td>2430</td>\n",
       "      <td>1.0</td>\n",
       "      <td>North Bend</td>\n",
       "    </tr>\n",
       "  </tbody>\n",
       "</table>\n",
       "</div>"
      ],
      "text/plain": [
       "       price  bedrooms  bathrooms  sqft_living  floors          city\n",
       "1  2384000.0       5.0        2.0         3650     2.0       Seattle\n",
       "5   490000.0       2.0        1.0          880     1.0       Seattle\n",
       "6   335000.0       2.0        2.0         1350     1.0       Redmond\n",
       "7   482000.0       4.0        2.0         2710     2.0  Maple Valley\n",
       "8   452500.0       3.0        2.0         2430     1.0    North Bend"
      ]
     },
     "execution_count": 803,
     "metadata": {},
     "output_type": "execute_result"
    }
   ],
   "source": [
    "df.head()"
   ]
  },
  {
   "cell_type": "code",
   "execution_count": 804,
   "metadata": {},
   "outputs": [
    {
     "data": {
      "application/vnd.microsoft.datawrangler.viewer.v0+json": {
       "columns": [
        {
         "name": "index",
         "rawType": "int64",
         "type": "integer"
        },
        {
         "name": "price",
         "rawType": "float64",
         "type": "float"
        },
        {
         "name": "bedrooms",
         "rawType": "float64",
         "type": "float"
        },
        {
         "name": "bathrooms",
         "rawType": "float64",
         "type": "float"
        },
        {
         "name": "sqft_living",
         "rawType": "int64",
         "type": "integer"
        },
        {
         "name": "floors",
         "rawType": "float64",
         "type": "float"
        },
        {
         "name": "Auburn",
         "rawType": "int32",
         "type": "integer"
        },
        {
         "name": "Bellevue",
         "rawType": "int32",
         "type": "integer"
        },
        {
         "name": "Bothell",
         "rawType": "int32",
         "type": "integer"
        },
        {
         "name": "Burien",
         "rawType": "int32",
         "type": "integer"
        },
        {
         "name": "Carnation",
         "rawType": "int32",
         "type": "integer"
        },
        {
         "name": "Clyde Hill",
         "rawType": "int32",
         "type": "integer"
        },
        {
         "name": "Covington",
         "rawType": "int32",
         "type": "integer"
        },
        {
         "name": "Des Moines",
         "rawType": "int32",
         "type": "integer"
        },
        {
         "name": "Duvall",
         "rawType": "int32",
         "type": "integer"
        },
        {
         "name": "Enumclaw",
         "rawType": "int32",
         "type": "integer"
        },
        {
         "name": "Fall City",
         "rawType": "int32",
         "type": "integer"
        },
        {
         "name": "Federal Way",
         "rawType": "int32",
         "type": "integer"
        },
        {
         "name": "Issaquah",
         "rawType": "int32",
         "type": "integer"
        },
        {
         "name": "Kenmore",
         "rawType": "int32",
         "type": "integer"
        },
        {
         "name": "Kent",
         "rawType": "int32",
         "type": "integer"
        },
        {
         "name": "Kirkland",
         "rawType": "int32",
         "type": "integer"
        },
        {
         "name": "Lake Forest Park",
         "rawType": "int32",
         "type": "integer"
        },
        {
         "name": "Maple Valley",
         "rawType": "int32",
         "type": "integer"
        },
        {
         "name": "Medina",
         "rawType": "int32",
         "type": "integer"
        },
        {
         "name": "Mercer Island",
         "rawType": "int32",
         "type": "integer"
        },
        {
         "name": "Newcastle",
         "rawType": "int32",
         "type": "integer"
        },
        {
         "name": "Normandy Park",
         "rawType": "int32",
         "type": "integer"
        },
        {
         "name": "North Bend",
         "rawType": "int32",
         "type": "integer"
        },
        {
         "name": "Redmond",
         "rawType": "int32",
         "type": "integer"
        },
        {
         "name": "Renton",
         "rawType": "int32",
         "type": "integer"
        },
        {
         "name": "Sammamish",
         "rawType": "int32",
         "type": "integer"
        },
        {
         "name": "SeaTac",
         "rawType": "int32",
         "type": "integer"
        },
        {
         "name": "Seattle",
         "rawType": "int32",
         "type": "integer"
        },
        {
         "name": "Shoreline",
         "rawType": "int32",
         "type": "integer"
        },
        {
         "name": "Snoqualmie",
         "rawType": "int32",
         "type": "integer"
        },
        {
         "name": "Tukwila",
         "rawType": "int32",
         "type": "integer"
        },
        {
         "name": "Vashon",
         "rawType": "int32",
         "type": "integer"
        },
        {
         "name": "Woodinville",
         "rawType": "int32",
         "type": "integer"
        }
       ],
       "conversionMethod": "pd.DataFrame",
       "ref": "62d0dc17-9d4c-48f0-8fb4-71864cba3732",
       "rows": [
        [
         "1",
         "2384000.0",
         "5.0",
         "2.0",
         "3650",
         "2.0",
         "0",
         "0",
         "0",
         "0",
         "0",
         "0",
         "0",
         "0",
         "0",
         "0",
         "0",
         "0",
         "0",
         "0",
         "0",
         "0",
         "0",
         "0",
         "0",
         "0",
         "0",
         "0",
         "0",
         "0",
         "0",
         "0",
         "0",
         "1",
         "0",
         "0",
         "0",
         "0",
         "0"
        ],
        [
         "5",
         "490000.0",
         "2.0",
         "1.0",
         "880",
         "1.0",
         "0",
         "0",
         "0",
         "0",
         "0",
         "0",
         "0",
         "0",
         "0",
         "0",
         "0",
         "0",
         "0",
         "0",
         "0",
         "0",
         "0",
         "0",
         "0",
         "0",
         "0",
         "0",
         "0",
         "0",
         "0",
         "0",
         "0",
         "1",
         "0",
         "0",
         "0",
         "0",
         "0"
        ],
        [
         "6",
         "335000.0",
         "2.0",
         "2.0",
         "1350",
         "1.0",
         "0",
         "0",
         "0",
         "0",
         "0",
         "0",
         "0",
         "0",
         "0",
         "0",
         "0",
         "0",
         "0",
         "0",
         "0",
         "0",
         "0",
         "0",
         "0",
         "0",
         "0",
         "0",
         "0",
         "1",
         "0",
         "0",
         "0",
         "0",
         "0",
         "0",
         "0",
         "0",
         "0"
        ],
        [
         "7",
         "482000.0",
         "4.0",
         "2.0",
         "2710",
         "2.0",
         "0",
         "0",
         "0",
         "0",
         "0",
         "0",
         "0",
         "0",
         "0",
         "0",
         "0",
         "0",
         "0",
         "0",
         "0",
         "0",
         "0",
         "1",
         "0",
         "0",
         "0",
         "0",
         "0",
         "0",
         "0",
         "0",
         "0",
         "0",
         "0",
         "0",
         "0",
         "0",
         "0"
        ],
        [
         "8",
         "452500.0",
         "3.0",
         "2.0",
         "2430",
         "1.0",
         "0",
         "0",
         "0",
         "0",
         "0",
         "0",
         "0",
         "0",
         "0",
         "0",
         "0",
         "0",
         "0",
         "0",
         "0",
         "0",
         "0",
         "0",
         "0",
         "0",
         "0",
         "0",
         "1",
         "0",
         "0",
         "0",
         "0",
         "0",
         "0",
         "0",
         "0",
         "0",
         "0"
        ],
        [
         "9",
         "640000.0",
         "4.0",
         "2.0",
         "1520",
         "2.0",
         "0",
         "0",
         "0",
         "0",
         "0",
         "0",
         "0",
         "0",
         "0",
         "0",
         "0",
         "0",
         "0",
         "0",
         "0",
         "0",
         "0",
         "0",
         "0",
         "0",
         "0",
         "0",
         "0",
         "0",
         "0",
         "0",
         "0",
         "1",
         "0",
         "0",
         "0",
         "0",
         "0"
        ],
        [
         "10",
         "463000.0",
         "3.0",
         "1.0",
         "1710",
         "1.0",
         "0",
         "0",
         "0",
         "0",
         "0",
         "0",
         "0",
         "0",
         "0",
         "0",
         "0",
         "0",
         "0",
         "0",
         "0",
         "0",
         "1",
         "0",
         "0",
         "0",
         "0",
         "0",
         "0",
         "0",
         "0",
         "0",
         "0",
         "0",
         "0",
         "0",
         "0",
         "0",
         "0"
        ],
        [
         "11",
         "1400000.0",
         "4.0",
         "2.0",
         "2920",
         "2.0",
         "0",
         "0",
         "0",
         "0",
         "0",
         "0",
         "0",
         "0",
         "0",
         "0",
         "0",
         "0",
         "0",
         "0",
         "0",
         "0",
         "0",
         "0",
         "0",
         "0",
         "0",
         "0",
         "0",
         "0",
         "0",
         "0",
         "0",
         "1",
         "0",
         "0",
         "0",
         "0",
         "0"
        ],
        [
         "12",
         "588500.0",
         "3.0",
         "1.0",
         "2330",
         "1.0",
         "0",
         "0",
         "0",
         "0",
         "0",
         "0",
         "0",
         "0",
         "0",
         "0",
         "0",
         "0",
         "0",
         "0",
         "0",
         "0",
         "0",
         "0",
         "0",
         "0",
         "0",
         "0",
         "0",
         "0",
         "0",
         "1",
         "0",
         "0",
         "0",
         "0",
         "0",
         "0",
         "0"
        ],
        [
         "14",
         "1200000.0",
         "5.0",
         "2.0",
         "2910",
         "2.0",
         "0",
         "0",
         "0",
         "0",
         "0",
         "0",
         "0",
         "0",
         "0",
         "0",
         "0",
         "0",
         "0",
         "0",
         "0",
         "0",
         "0",
         "0",
         "0",
         "0",
         "0",
         "0",
         "0",
         "0",
         "0",
         "0",
         "0",
         "1",
         "0",
         "0",
         "0",
         "0",
         "0"
        ]
       ],
       "shape": {
        "columns": 38,
        "rows": 10
       }
      },
      "text/html": [
       "<div>\n",
       "<style scoped>\n",
       "    .dataframe tbody tr th:only-of-type {\n",
       "        vertical-align: middle;\n",
       "    }\n",
       "\n",
       "    .dataframe tbody tr th {\n",
       "        vertical-align: top;\n",
       "    }\n",
       "\n",
       "    .dataframe thead th {\n",
       "        text-align: right;\n",
       "    }\n",
       "</style>\n",
       "<table border=\"1\" class=\"dataframe\">\n",
       "  <thead>\n",
       "    <tr style=\"text-align: right;\">\n",
       "      <th></th>\n",
       "      <th>price</th>\n",
       "      <th>bedrooms</th>\n",
       "      <th>bathrooms</th>\n",
       "      <th>sqft_living</th>\n",
       "      <th>floors</th>\n",
       "      <th>Auburn</th>\n",
       "      <th>Bellevue</th>\n",
       "      <th>Bothell</th>\n",
       "      <th>Burien</th>\n",
       "      <th>Carnation</th>\n",
       "      <th>...</th>\n",
       "      <th>Redmond</th>\n",
       "      <th>Renton</th>\n",
       "      <th>Sammamish</th>\n",
       "      <th>SeaTac</th>\n",
       "      <th>Seattle</th>\n",
       "      <th>Shoreline</th>\n",
       "      <th>Snoqualmie</th>\n",
       "      <th>Tukwila</th>\n",
       "      <th>Vashon</th>\n",
       "      <th>Woodinville</th>\n",
       "    </tr>\n",
       "  </thead>\n",
       "  <tbody>\n",
       "    <tr>\n",
       "      <th>1</th>\n",
       "      <td>2384000.0</td>\n",
       "      <td>5.0</td>\n",
       "      <td>2.0</td>\n",
       "      <td>3650</td>\n",
       "      <td>2.0</td>\n",
       "      <td>0</td>\n",
       "      <td>0</td>\n",
       "      <td>0</td>\n",
       "      <td>0</td>\n",
       "      <td>0</td>\n",
       "      <td>...</td>\n",
       "      <td>0</td>\n",
       "      <td>0</td>\n",
       "      <td>0</td>\n",
       "      <td>0</td>\n",
       "      <td>1</td>\n",
       "      <td>0</td>\n",
       "      <td>0</td>\n",
       "      <td>0</td>\n",
       "      <td>0</td>\n",
       "      <td>0</td>\n",
       "    </tr>\n",
       "    <tr>\n",
       "      <th>5</th>\n",
       "      <td>490000.0</td>\n",
       "      <td>2.0</td>\n",
       "      <td>1.0</td>\n",
       "      <td>880</td>\n",
       "      <td>1.0</td>\n",
       "      <td>0</td>\n",
       "      <td>0</td>\n",
       "      <td>0</td>\n",
       "      <td>0</td>\n",
       "      <td>0</td>\n",
       "      <td>...</td>\n",
       "      <td>0</td>\n",
       "      <td>0</td>\n",
       "      <td>0</td>\n",
       "      <td>0</td>\n",
       "      <td>1</td>\n",
       "      <td>0</td>\n",
       "      <td>0</td>\n",
       "      <td>0</td>\n",
       "      <td>0</td>\n",
       "      <td>0</td>\n",
       "    </tr>\n",
       "    <tr>\n",
       "      <th>6</th>\n",
       "      <td>335000.0</td>\n",
       "      <td>2.0</td>\n",
       "      <td>2.0</td>\n",
       "      <td>1350</td>\n",
       "      <td>1.0</td>\n",
       "      <td>0</td>\n",
       "      <td>0</td>\n",
       "      <td>0</td>\n",
       "      <td>0</td>\n",
       "      <td>0</td>\n",
       "      <td>...</td>\n",
       "      <td>1</td>\n",
       "      <td>0</td>\n",
       "      <td>0</td>\n",
       "      <td>0</td>\n",
       "      <td>0</td>\n",
       "      <td>0</td>\n",
       "      <td>0</td>\n",
       "      <td>0</td>\n",
       "      <td>0</td>\n",
       "      <td>0</td>\n",
       "    </tr>\n",
       "    <tr>\n",
       "      <th>7</th>\n",
       "      <td>482000.0</td>\n",
       "      <td>4.0</td>\n",
       "      <td>2.0</td>\n",
       "      <td>2710</td>\n",
       "      <td>2.0</td>\n",
       "      <td>0</td>\n",
       "      <td>0</td>\n",
       "      <td>0</td>\n",
       "      <td>0</td>\n",
       "      <td>0</td>\n",
       "      <td>...</td>\n",
       "      <td>0</td>\n",
       "      <td>0</td>\n",
       "      <td>0</td>\n",
       "      <td>0</td>\n",
       "      <td>0</td>\n",
       "      <td>0</td>\n",
       "      <td>0</td>\n",
       "      <td>0</td>\n",
       "      <td>0</td>\n",
       "      <td>0</td>\n",
       "    </tr>\n",
       "    <tr>\n",
       "      <th>8</th>\n",
       "      <td>452500.0</td>\n",
       "      <td>3.0</td>\n",
       "      <td>2.0</td>\n",
       "      <td>2430</td>\n",
       "      <td>1.0</td>\n",
       "      <td>0</td>\n",
       "      <td>0</td>\n",
       "      <td>0</td>\n",
       "      <td>0</td>\n",
       "      <td>0</td>\n",
       "      <td>...</td>\n",
       "      <td>0</td>\n",
       "      <td>0</td>\n",
       "      <td>0</td>\n",
       "      <td>0</td>\n",
       "      <td>0</td>\n",
       "      <td>0</td>\n",
       "      <td>0</td>\n",
       "      <td>0</td>\n",
       "      <td>0</td>\n",
       "      <td>0</td>\n",
       "    </tr>\n",
       "    <tr>\n",
       "      <th>9</th>\n",
       "      <td>640000.0</td>\n",
       "      <td>4.0</td>\n",
       "      <td>2.0</td>\n",
       "      <td>1520</td>\n",
       "      <td>2.0</td>\n",
       "      <td>0</td>\n",
       "      <td>0</td>\n",
       "      <td>0</td>\n",
       "      <td>0</td>\n",
       "      <td>0</td>\n",
       "      <td>...</td>\n",
       "      <td>0</td>\n",
       "      <td>0</td>\n",
       "      <td>0</td>\n",
       "      <td>0</td>\n",
       "      <td>1</td>\n",
       "      <td>0</td>\n",
       "      <td>0</td>\n",
       "      <td>0</td>\n",
       "      <td>0</td>\n",
       "      <td>0</td>\n",
       "    </tr>\n",
       "    <tr>\n",
       "      <th>10</th>\n",
       "      <td>463000.0</td>\n",
       "      <td>3.0</td>\n",
       "      <td>1.0</td>\n",
       "      <td>1710</td>\n",
       "      <td>1.0</td>\n",
       "      <td>0</td>\n",
       "      <td>0</td>\n",
       "      <td>0</td>\n",
       "      <td>0</td>\n",
       "      <td>0</td>\n",
       "      <td>...</td>\n",
       "      <td>0</td>\n",
       "      <td>0</td>\n",
       "      <td>0</td>\n",
       "      <td>0</td>\n",
       "      <td>0</td>\n",
       "      <td>0</td>\n",
       "      <td>0</td>\n",
       "      <td>0</td>\n",
       "      <td>0</td>\n",
       "      <td>0</td>\n",
       "    </tr>\n",
       "    <tr>\n",
       "      <th>11</th>\n",
       "      <td>1400000.0</td>\n",
       "      <td>4.0</td>\n",
       "      <td>2.0</td>\n",
       "      <td>2920</td>\n",
       "      <td>2.0</td>\n",
       "      <td>0</td>\n",
       "      <td>0</td>\n",
       "      <td>0</td>\n",
       "      <td>0</td>\n",
       "      <td>0</td>\n",
       "      <td>...</td>\n",
       "      <td>0</td>\n",
       "      <td>0</td>\n",
       "      <td>0</td>\n",
       "      <td>0</td>\n",
       "      <td>1</td>\n",
       "      <td>0</td>\n",
       "      <td>0</td>\n",
       "      <td>0</td>\n",
       "      <td>0</td>\n",
       "      <td>0</td>\n",
       "    </tr>\n",
       "    <tr>\n",
       "      <th>12</th>\n",
       "      <td>588500.0</td>\n",
       "      <td>3.0</td>\n",
       "      <td>1.0</td>\n",
       "      <td>2330</td>\n",
       "      <td>1.0</td>\n",
       "      <td>0</td>\n",
       "      <td>0</td>\n",
       "      <td>0</td>\n",
       "      <td>0</td>\n",
       "      <td>0</td>\n",
       "      <td>...</td>\n",
       "      <td>0</td>\n",
       "      <td>0</td>\n",
       "      <td>1</td>\n",
       "      <td>0</td>\n",
       "      <td>0</td>\n",
       "      <td>0</td>\n",
       "      <td>0</td>\n",
       "      <td>0</td>\n",
       "      <td>0</td>\n",
       "      <td>0</td>\n",
       "    </tr>\n",
       "    <tr>\n",
       "      <th>14</th>\n",
       "      <td>1200000.0</td>\n",
       "      <td>5.0</td>\n",
       "      <td>2.0</td>\n",
       "      <td>2910</td>\n",
       "      <td>2.0</td>\n",
       "      <td>0</td>\n",
       "      <td>0</td>\n",
       "      <td>0</td>\n",
       "      <td>0</td>\n",
       "      <td>0</td>\n",
       "      <td>...</td>\n",
       "      <td>0</td>\n",
       "      <td>0</td>\n",
       "      <td>0</td>\n",
       "      <td>0</td>\n",
       "      <td>1</td>\n",
       "      <td>0</td>\n",
       "      <td>0</td>\n",
       "      <td>0</td>\n",
       "      <td>0</td>\n",
       "      <td>0</td>\n",
       "    </tr>\n",
       "  </tbody>\n",
       "</table>\n",
       "<p>10 rows × 38 columns</p>\n",
       "</div>"
      ],
      "text/plain": [
       "        price  bedrooms  bathrooms  sqft_living  floors  Auburn  Bellevue  \\\n",
       "1   2384000.0       5.0        2.0         3650     2.0       0         0   \n",
       "5    490000.0       2.0        1.0          880     1.0       0         0   \n",
       "6    335000.0       2.0        2.0         1350     1.0       0         0   \n",
       "7    482000.0       4.0        2.0         2710     2.0       0         0   \n",
       "8    452500.0       3.0        2.0         2430     1.0       0         0   \n",
       "9    640000.0       4.0        2.0         1520     2.0       0         0   \n",
       "10   463000.0       3.0        1.0         1710     1.0       0         0   \n",
       "11  1400000.0       4.0        2.0         2920     2.0       0         0   \n",
       "12   588500.0       3.0        1.0         2330     1.0       0         0   \n",
       "14  1200000.0       5.0        2.0         2910     2.0       0         0   \n",
       "\n",
       "    Bothell  Burien  Carnation  ...  Redmond  Renton  Sammamish  SeaTac  \\\n",
       "1         0       0          0  ...        0       0          0       0   \n",
       "5         0       0          0  ...        0       0          0       0   \n",
       "6         0       0          0  ...        1       0          0       0   \n",
       "7         0       0          0  ...        0       0          0       0   \n",
       "8         0       0          0  ...        0       0          0       0   \n",
       "9         0       0          0  ...        0       0          0       0   \n",
       "10        0       0          0  ...        0       0          0       0   \n",
       "11        0       0          0  ...        0       0          0       0   \n",
       "12        0       0          0  ...        0       0          1       0   \n",
       "14        0       0          0  ...        0       0          0       0   \n",
       "\n",
       "    Seattle  Shoreline  Snoqualmie  Tukwila  Vashon  Woodinville  \n",
       "1         1          0           0        0       0            0  \n",
       "5         1          0           0        0       0            0  \n",
       "6         0          0           0        0       0            0  \n",
       "7         0          0           0        0       0            0  \n",
       "8         0          0           0        0       0            0  \n",
       "9         1          0           0        0       0            0  \n",
       "10        0          0           0        0       0            0  \n",
       "11        1          0           0        0       0            0  \n",
       "12        0          0           0        0       0            0  \n",
       "14        1          0           0        0       0            0  \n",
       "\n",
       "[10 rows x 38 columns]"
      ]
     },
     "execution_count": 804,
     "metadata": {},
     "output_type": "execute_result"
    }
   ],
   "source": [
    "dummy=pd.get_dummies(df.city).astype(int)\n",
    "merge=pd.concat([df,dummy],axis='columns')\n",
    "df_final=merge.drop(['city','other'],axis='columns')\n",
    "df_final.head(10)"
   ]
  },
  {
   "cell_type": "code",
   "execution_count": 805,
   "metadata": {},
   "outputs": [
    {
     "data": {
      "text/plain": [
       "(1873, 38)"
      ]
     },
     "execution_count": 805,
     "metadata": {},
     "output_type": "execute_result"
    }
   ],
   "source": [
    "df_final.shape"
   ]
  },
  {
   "cell_type": "code",
   "execution_count": 806,
   "metadata": {},
   "outputs": [],
   "source": [
    "\n",
    "X=df_final.drop('price',axis='columns')\n",
    "y=df_final.price\n",
    "\n",
    "\n"
   ]
  },
  {
   "cell_type": "code",
   "execution_count": 807,
   "metadata": {},
   "outputs": [],
   "source": [
    "from sklearn.model_selection import train_test_split\n",
    "X_train, X_test, y_train, y_test = train_test_split(X, y, test_size=0.2, random_state=10)"
   ]
  },
  {
   "cell_type": "code",
   "execution_count": 808,
   "metadata": {},
   "outputs": [
    {
     "data": {
      "text/plain": [
       "0.7885597108763299"
      ]
     },
     "execution_count": 808,
     "metadata": {},
     "output_type": "execute_result"
    }
   ],
   "source": [
    "from sklearn.linear_model import LinearRegression,Lasso\n",
    "lr_model=Lasso(alpha=1.0, max_iter=10000)\n",
    "lr_model.fit(X_train.values,y_train.values)\n",
    "lr_model.score(X_test.values,y_test)"
   ]
  },
  {
   "cell_type": "code",
   "execution_count": 809,
   "metadata": {},
   "outputs": [
    {
     "data": {
      "text/plain": [
       "array([0.7784706 , 0.78386498, 0.77968612, 0.8311129 , 0.8110791 ])"
      ]
     },
     "execution_count": 809,
     "metadata": {},
     "output_type": "execute_result"
    }
   ],
   "source": [
    "from sklearn.model_selection import ShuffleSplit\n",
    "cv=ShuffleSplit(n_splits=5,test_size=0.2,random_state=0)\n",
    "from sklearn.model_selection import cross_val_score\n",
    "cross_val_score(LinearRegression(),X,y,cv=cv)"
   ]
  },
  {
   "cell_type": "code",
   "execution_count": 810,
   "metadata": {},
   "outputs": [],
   "source": [
    "from sklearn.model_selection import GridSearchCV\n",
    "from sklearn.svm import SVR\n",
    "from sklearn.ensemble import RandomForestRegressor\n",
    "from sklearn.tree import DecisionTreeRegressor"
   ]
  },
  {
   "cell_type": "code",
   "execution_count": 811,
   "metadata": {},
   "outputs": [],
   "source": [
    "\n",
    "model_params = {\n",
    "    'support_vector' : \n",
    "    {\n",
    "        'model': SVR(gamma='auto'),\n",
    "        'params': \n",
    "        {\n",
    "            'C': [1,10,20],\n",
    "            'kernel': ['rbf','linear']\n",
    "        }\n",
    "    },\n",
    "    'linear_regression' : \n",
    "    {\n",
    "        'model': LinearRegression(),\n",
    "        'params': \n",
    "        {\n",
    "            'n_jobs':[1,-1,2]\n",
    "        }\n",
    "    },\n",
    "    \n",
    "    'random_forest':\n",
    "    {\n",
    "        'model':RandomForestRegressor(),\n",
    "        'params':\n",
    "        {\n",
    "            'n_estimators':[100,200,500]\n",
    "        }\n",
    "    },\n",
    "    'lasso': \n",
    "    {\n",
    "        'model': Lasso(max_iter=10000),\n",
    "        'params': \n",
    "        {\n",
    "            'alpha': [1,2],\n",
    "            'selection': ['random', 'cyclic']\n",
    "        }\n",
    "    },\n",
    "    'decision_tree':\n",
    "    {\n",
    "        'model':DecisionTreeRegressor(),\n",
    "        'params':\n",
    "        {\n",
    "            'criterion': ['squared_error', 'poisson', 'friedman_mse', 'absolute_error'],\n",
    "            'splitter': ['best', 'random']\n",
    "        }\n",
    "    }\n",
    "}"
   ]
  },
  {
   "cell_type": "code",
   "execution_count": 812,
   "metadata": {},
   "outputs": [],
   "source": [
    "# scores=[]\n",
    "# for model_name,npp in model_params.items():\n",
    "#     gs=GridSearchCV(npp['model'],npp['params'],cv=cv)\n",
    "#     gs.fit(X_scaled,y)\n",
    "#     scores.append(\n",
    "#         {\n",
    "#             'model':model_name,\n",
    "#             'best_score':gs.best_score_,\n",
    "#             'best_params':gs.best_params_\n",
    "#         }\n",
    "#     )\n",
    "# import pandas as pd\n",
    "# pd.DataFrame(scores,columns=['model','best_score','best_params'])"
   ]
  },
  {
   "cell_type": "code",
   "execution_count": 813,
   "metadata": {},
   "outputs": [
    {
     "data": {
      "text/plain": [
       "Index(['bedrooms', 'bathrooms', 'sqft_living', 'floors', 'Auburn', 'Bellevue',\n",
       "       'Bothell', 'Burien', 'Carnation', 'Clyde Hill', 'Covington',\n",
       "       'Des Moines', 'Duvall', 'Enumclaw', 'Fall City', 'Federal Way',\n",
       "       'Issaquah', 'Kenmore', 'Kent', 'Kirkland', 'Lake Forest Park',\n",
       "       'Maple Valley', 'Medina', 'Mercer Island', 'Newcastle', 'Normandy Park',\n",
       "       'North Bend', 'Redmond', 'Renton', 'Sammamish', 'SeaTac', 'Seattle',\n",
       "       'Shoreline', 'Snoqualmie', 'Tukwila', 'Vashon', 'Woodinville'],\n",
       "      dtype='object')"
      ]
     },
     "execution_count": 813,
     "metadata": {},
     "output_type": "execute_result"
    }
   ],
   "source": [
    "X.columns"
   ]
  },
  {
   "cell_type": "code",
   "execution_count": 814,
   "metadata": {},
   "outputs": [
    {
     "data": {
      "text/plain": [
       "6"
      ]
     },
     "execution_count": 814,
     "metadata": {},
     "output_type": "execute_result"
    }
   ],
   "source": [
    "import numpy as np\n",
    "np.where(X.columns=='Bothell')[0][0]"
   ]
  },
  {
   "cell_type": "code",
   "execution_count": 815,
   "metadata": {},
   "outputs": [],
   "source": [
    "\n",
    "from sklearn.preprocessing import StandardScaler\n",
    "\n",
    "# Scaling the target variable (price)\n",
    "\n",
    "\n",
    "# Updating the prediction function to inverse transform the predicted price\n",
    "def predict_price(location, bhk, bath, sqft, floor):    \n",
    "    loc_index = np.where(X.columns==location)[0][0]\n",
    "\n",
    "    x = np.zeros(len(X.columns))\n",
    "    x[0] = bhk  # Scaled bhk\n",
    "    x[1] = bath  # Scaled bath\n",
    "    x[2] = sqft  # Scaled sqft\n",
    "    x[3] = floor  # Scaled floor\n",
    "\n",
    "    if loc_index >= 0:\n",
    "        x[loc_index] = 1\n",
    "    return lr_model.predict([x])[0]  # Convert back to original scale\n"
   ]
  },
  {
   "cell_type": "code",
   "execution_count": 816,
   "metadata": {},
   "outputs": [
    {
     "data": {
      "text/plain": [
       "144812.29510070945"
      ]
     },
     "execution_count": 816,
     "metadata": {},
     "output_type": "execute_result"
    }
   ],
   "source": [
    "predict_price('Seattle',5, 2,1, 2)"
   ]
  },
  {
   "cell_type": "code",
   "execution_count": 817,
   "metadata": {},
   "outputs": [
    {
     "data": {
      "text/plain": [
       "79018.28018780914"
      ]
     },
     "execution_count": 817,
     "metadata": {},
     "output_type": "execute_result"
    }
   ],
   "source": [
    "lr_model.intercept_"
   ]
  },
  {
   "cell_type": "code",
   "execution_count": 818,
   "metadata": {},
   "outputs": [],
   "source": [
    "import pickle\n",
    "with open('home_price_model.pickle','wb') as f:\n",
    "    pickle.dump(lr_model,f)"
   ]
  },
  {
   "cell_type": "code",
   "execution_count": 819,
   "metadata": {},
   "outputs": [],
   "source": [
    "import json\n",
    "columns = {\n",
    "    'data_columns' : [col.lower() for col in X.columns]\n",
    "}\n",
    "with open(\"columns.json\",\"w\") as f:\n",
    "    f.write(json.dumps(columns))"
   ]
  },
  {
   "cell_type": "code",
   "execution_count": null,
   "metadata": {},
   "outputs": [],
   "source": []
  },
  {
   "cell_type": "code",
   "execution_count": null,
   "metadata": {},
   "outputs": [],
   "source": []
  },
  {
   "cell_type": "code",
   "execution_count": null,
   "id": "ba87cd09",
   "metadata": {},
   "outputs": [],
   "source": []
  }
 ],
 "metadata": {
  "kernelspec": {
   "display_name": "Python 3",
   "language": "python",
   "name": "python3"
  },
  "language_info": {
   "codemirror_mode": {
    "name": "ipython",
    "version": 3
   },
   "file_extension": ".py",
   "mimetype": "text/x-python",
   "name": "python",
   "nbconvert_exporter": "python",
   "pygments_lexer": "ipython3",
   "version": "3.10.11"
  }
 },
 "nbformat": 4,
 "nbformat_minor": 2
}
